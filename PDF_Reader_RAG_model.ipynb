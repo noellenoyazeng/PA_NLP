{
 "cells": [
  {
   "cell_type": "code",
   "execution_count": 1,
   "id": "cadb0873-126f-41aa-ad36-d196c5ecd8e4",
   "metadata": {
    "tags": []
   },
   "outputs": [
    {
     "name": "stdout",
     "output_type": "stream",
     "text": [
      "Requirement already satisfied: google-cloud-aiplatform==1.35.0 in ./.local/lib/python3.10/site-packages (1.35.0)\n",
      "Requirement already satisfied: google-cloud-documentai==2.20.1 in ./.local/lib/python3.10/site-packages (2.20.1)\n",
      "Requirement already satisfied: backoff==2.2.1 in /opt/conda/lib/python3.10/site-packages (2.2.1)\n",
      "Requirement already satisfied: google-api-core!=2.0.*,!=2.1.*,!=2.2.*,!=2.3.*,!=2.4.*,!=2.5.*,!=2.6.*,!=2.7.*,<3.0.0dev,>=1.32.0 in /opt/conda/lib/python3.10/site-packages (from google-api-core[grpc]!=2.0.*,!=2.1.*,!=2.2.*,!=2.3.*,!=2.4.*,!=2.5.*,!=2.6.*,!=2.7.*,<3.0.0dev,>=1.32.0->google-cloud-aiplatform==1.35.0) (1.34.0)\n",
      "Requirement already satisfied: proto-plus<2.0.0dev,>=1.22.0 in /opt/conda/lib/python3.10/site-packages (from google-cloud-aiplatform==1.35.0) (1.23.0)\n",
      "Requirement already satisfied: protobuf!=3.20.0,!=3.20.1,!=4.21.0,!=4.21.1,!=4.21.2,!=4.21.3,!=4.21.4,!=4.21.5,<5.0.0dev,>=3.19.5 in /opt/conda/lib/python3.10/site-packages (from google-cloud-aiplatform==1.35.0) (3.20.3)\n",
      "Requirement already satisfied: packaging>=14.3 in /opt/conda/lib/python3.10/site-packages (from google-cloud-aiplatform==1.35.0) (23.2)\n",
      "Requirement already satisfied: google-cloud-storage<3.0.0dev,>=1.32.0 in /opt/conda/lib/python3.10/site-packages (from google-cloud-aiplatform==1.35.0) (2.13.0)\n",
      "Requirement already satisfied: google-cloud-bigquery<4.0.0dev,>=1.15.0 in /opt/conda/lib/python3.10/site-packages (from google-cloud-aiplatform==1.35.0) (3.13.0)\n",
      "Requirement already satisfied: google-cloud-resource-manager<3.0.0dev,>=1.3.3 in /opt/conda/lib/python3.10/site-packages (from google-cloud-aiplatform==1.35.0) (1.11.0)\n",
      "Requirement already satisfied: shapely<3.0.0dev in /opt/conda/lib/python3.10/site-packages (from google-cloud-aiplatform==1.35.0) (2.0.2)\n",
      "Requirement already satisfied: googleapis-common-protos<2.0dev,>=1.56.2 in /opt/conda/lib/python3.10/site-packages (from google-api-core!=2.0.*,!=2.1.*,!=2.2.*,!=2.3.*,!=2.4.*,!=2.5.*,!=2.6.*,!=2.7.*,<3.0.0dev,>=1.32.0->google-api-core[grpc]!=2.0.*,!=2.1.*,!=2.2.*,!=2.3.*,!=2.4.*,!=2.5.*,!=2.6.*,!=2.7.*,<3.0.0dev,>=1.32.0->google-cloud-aiplatform==1.35.0) (1.62.0)\n",
      "Requirement already satisfied: google-auth<3.0dev,>=1.25.0 in /opt/conda/lib/python3.10/site-packages (from google-api-core!=2.0.*,!=2.1.*,!=2.2.*,!=2.3.*,!=2.4.*,!=2.5.*,!=2.6.*,!=2.7.*,<3.0.0dev,>=1.32.0->google-api-core[grpc]!=2.0.*,!=2.1.*,!=2.2.*,!=2.3.*,!=2.4.*,!=2.5.*,!=2.6.*,!=2.7.*,<3.0.0dev,>=1.32.0->google-cloud-aiplatform==1.35.0) (2.25.2)\n",
      "Requirement already satisfied: requests<3.0.0dev,>=2.18.0 in /opt/conda/lib/python3.10/site-packages (from google-api-core!=2.0.*,!=2.1.*,!=2.2.*,!=2.3.*,!=2.4.*,!=2.5.*,!=2.6.*,!=2.7.*,<3.0.0dev,>=1.32.0->google-api-core[grpc]!=2.0.*,!=2.1.*,!=2.2.*,!=2.3.*,!=2.4.*,!=2.5.*,!=2.6.*,!=2.7.*,<3.0.0dev,>=1.32.0->google-cloud-aiplatform==1.35.0) (2.31.0)\n",
      "Requirement already satisfied: grpcio<2.0dev,>=1.33.2 in /opt/conda/lib/python3.10/site-packages (from google-api-core[grpc]!=2.0.*,!=2.1.*,!=2.2.*,!=2.3.*,!=2.4.*,!=2.5.*,!=2.6.*,!=2.7.*,<3.0.0dev,>=1.32.0->google-cloud-aiplatform==1.35.0) (1.48.1)\n",
      "Requirement already satisfied: grpcio-status<2.0dev,>=1.33.2 in /opt/conda/lib/python3.10/site-packages (from google-api-core[grpc]!=2.0.*,!=2.1.*,!=2.2.*,!=2.3.*,!=2.4.*,!=2.5.*,!=2.6.*,!=2.7.*,<3.0.0dev,>=1.32.0->google-cloud-aiplatform==1.35.0) (1.48.1)\n",
      "Requirement already satisfied: google-cloud-core<3.0.0dev,>=1.6.0 in /opt/conda/lib/python3.10/site-packages (from google-cloud-bigquery<4.0.0dev,>=1.15.0->google-cloud-aiplatform==1.35.0) (2.4.1)\n",
      "Requirement already satisfied: google-resumable-media<3.0dev,>=0.6.0 in /opt/conda/lib/python3.10/site-packages (from google-cloud-bigquery<4.0.0dev,>=1.15.0->google-cloud-aiplatform==1.35.0) (2.6.0)\n",
      "Requirement already satisfied: python-dateutil<3.0dev,>=2.7.2 in /opt/conda/lib/python3.10/site-packages (from google-cloud-bigquery<4.0.0dev,>=1.15.0->google-cloud-aiplatform==1.35.0) (2.8.2)\n",
      "Requirement already satisfied: grpc-google-iam-v1<1.0.0dev,>=0.12.4 in /opt/conda/lib/python3.10/site-packages (from google-cloud-resource-manager<3.0.0dev,>=1.3.3->google-cloud-aiplatform==1.35.0) (0.12.7)\n",
      "Requirement already satisfied: google-crc32c<2.0dev,>=1.0 in /opt/conda/lib/python3.10/site-packages (from google-cloud-storage<3.0.0dev,>=1.32.0->google-cloud-aiplatform==1.35.0) (1.5.0)\n",
      "Requirement already satisfied: numpy>=1.14 in /opt/conda/lib/python3.10/site-packages (from shapely<3.0.0dev->google-cloud-aiplatform==1.35.0) (1.23.5)\n",
      "Requirement already satisfied: cachetools<6.0,>=2.0.0 in /opt/conda/lib/python3.10/site-packages (from google-auth<3.0dev,>=1.25.0->google-api-core!=2.0.*,!=2.1.*,!=2.2.*,!=2.3.*,!=2.4.*,!=2.5.*,!=2.6.*,!=2.7.*,<3.0.0dev,>=1.32.0->google-api-core[grpc]!=2.0.*,!=2.1.*,!=2.2.*,!=2.3.*,!=2.4.*,!=2.5.*,!=2.6.*,!=2.7.*,<3.0.0dev,>=1.32.0->google-cloud-aiplatform==1.35.0) (4.2.4)\n",
      "Requirement already satisfied: pyasn1-modules>=0.2.1 in /opt/conda/lib/python3.10/site-packages (from google-auth<3.0dev,>=1.25.0->google-api-core!=2.0.*,!=2.1.*,!=2.2.*,!=2.3.*,!=2.4.*,!=2.5.*,!=2.6.*,!=2.7.*,<3.0.0dev,>=1.32.0->google-api-core[grpc]!=2.0.*,!=2.1.*,!=2.2.*,!=2.3.*,!=2.4.*,!=2.5.*,!=2.6.*,!=2.7.*,<3.0.0dev,>=1.32.0->google-cloud-aiplatform==1.35.0) (0.3.0)\n",
      "Requirement already satisfied: rsa<5,>=3.1.4 in /opt/conda/lib/python3.10/site-packages (from google-auth<3.0dev,>=1.25.0->google-api-core!=2.0.*,!=2.1.*,!=2.2.*,!=2.3.*,!=2.4.*,!=2.5.*,!=2.6.*,!=2.7.*,<3.0.0dev,>=1.32.0->google-api-core[grpc]!=2.0.*,!=2.1.*,!=2.2.*,!=2.3.*,!=2.4.*,!=2.5.*,!=2.6.*,!=2.7.*,<3.0.0dev,>=1.32.0->google-cloud-aiplatform==1.35.0) (4.9)\n",
      "Requirement already satisfied: six>=1.5.2 in /opt/conda/lib/python3.10/site-packages (from grpcio<2.0dev,>=1.33.2->google-api-core[grpc]!=2.0.*,!=2.1.*,!=2.2.*,!=2.3.*,!=2.4.*,!=2.5.*,!=2.6.*,!=2.7.*,<3.0.0dev,>=1.32.0->google-cloud-aiplatform==1.35.0) (1.16.0)\n",
      "Requirement already satisfied: charset-normalizer<4,>=2 in /opt/conda/lib/python3.10/site-packages (from requests<3.0.0dev,>=2.18.0->google-api-core!=2.0.*,!=2.1.*,!=2.2.*,!=2.3.*,!=2.4.*,!=2.5.*,!=2.6.*,!=2.7.*,<3.0.0dev,>=1.32.0->google-api-core[grpc]!=2.0.*,!=2.1.*,!=2.2.*,!=2.3.*,!=2.4.*,!=2.5.*,!=2.6.*,!=2.7.*,<3.0.0dev,>=1.32.0->google-cloud-aiplatform==1.35.0) (3.3.2)\n",
      "Requirement already satisfied: idna<4,>=2.5 in /opt/conda/lib/python3.10/site-packages (from requests<3.0.0dev,>=2.18.0->google-api-core!=2.0.*,!=2.1.*,!=2.2.*,!=2.3.*,!=2.4.*,!=2.5.*,!=2.6.*,!=2.7.*,<3.0.0dev,>=1.32.0->google-api-core[grpc]!=2.0.*,!=2.1.*,!=2.2.*,!=2.3.*,!=2.4.*,!=2.5.*,!=2.6.*,!=2.7.*,<3.0.0dev,>=1.32.0->google-cloud-aiplatform==1.35.0) (3.6)\n",
      "Requirement already satisfied: urllib3<3,>=1.21.1 in /opt/conda/lib/python3.10/site-packages (from requests<3.0.0dev,>=2.18.0->google-api-core!=2.0.*,!=2.1.*,!=2.2.*,!=2.3.*,!=2.4.*,!=2.5.*,!=2.6.*,!=2.7.*,<3.0.0dev,>=1.32.0->google-api-core[grpc]!=2.0.*,!=2.1.*,!=2.2.*,!=2.3.*,!=2.4.*,!=2.5.*,!=2.6.*,!=2.7.*,<3.0.0dev,>=1.32.0->google-cloud-aiplatform==1.35.0) (1.26.18)\n",
      "Requirement already satisfied: certifi>=2017.4.17 in /opt/conda/lib/python3.10/site-packages (from requests<3.0.0dev,>=2.18.0->google-api-core!=2.0.*,!=2.1.*,!=2.2.*,!=2.3.*,!=2.4.*,!=2.5.*,!=2.6.*,!=2.7.*,<3.0.0dev,>=1.32.0->google-api-core[grpc]!=2.0.*,!=2.1.*,!=2.2.*,!=2.3.*,!=2.4.*,!=2.5.*,!=2.6.*,!=2.7.*,<3.0.0dev,>=1.32.0->google-cloud-aiplatform==1.35.0) (2023.11.17)\n",
      "Requirement already satisfied: pyasn1<0.6.0,>=0.4.6 in /opt/conda/lib/python3.10/site-packages (from pyasn1-modules>=0.2.1->google-auth<3.0dev,>=1.25.0->google-api-core!=2.0.*,!=2.1.*,!=2.2.*,!=2.3.*,!=2.4.*,!=2.5.*,!=2.6.*,!=2.7.*,<3.0.0dev,>=1.32.0->google-api-core[grpc]!=2.0.*,!=2.1.*,!=2.2.*,!=2.3.*,!=2.4.*,!=2.5.*,!=2.6.*,!=2.7.*,<3.0.0dev,>=1.32.0->google-cloud-aiplatform==1.35.0) (0.5.1)\n",
      "Note: you may need to restart the kernel to use updated packages.\n"
     ]
    }
   ],
   "source": [
    "%pip install --upgrade google-cloud-aiplatform==1.35.0 google-cloud-documentai==2.20.1 backoff==2.2.1 --user\n",
    "%pip install PyPDF2"
   ]
  },
  {
   "cell_type": "code",
   "execution_count": 2,
   "id": "eaefa250-7577-416c-a4bb-4168335c74c8",
   "metadata": {
    "tags": []
   },
   "outputs": [],
   "source": [
    "import sys\n",
    "\n",
    "if \"google.colab\" in sys.modules:\n",
    "    # Automatically restart kernel after installs so that your environment can access the new packages\n",
    "    import IPython\n",
    "\n",
    "    app = IPython.Application.instance()\n",
    "    app.kernel.do_shutdown(True)\n",
    "else:\n",
    "    # Otherwise, attempt to discover local credentials as described on https://cloud.google.com/docs/authentication/application-default-credentials\n",
    "    pass"
   ]
  },
  {
   "cell_type": "code",
   "execution_count": 2,
   "id": "2b506c83-8d0a-49ca-a1a3-4582ac96aed7",
   "metadata": {
    "tags": []
   },
   "outputs": [
    {
     "name": "stdout",
     "output_type": "stream",
     "text": [
      "Requirement already satisfied: fitz in /opt/conda/lib/python3.10/site-packages (0.0.1.dev2)\n",
      "Requirement already satisfied: configobj in /opt/conda/lib/python3.10/site-packages (from fitz) (5.0.8)\n",
      "Requirement already satisfied: configparser in /opt/conda/lib/python3.10/site-packages (from fitz) (6.0.0)\n",
      "Requirement already satisfied: httplib2 in /opt/conda/lib/python3.10/site-packages (from fitz) (0.21.0)\n",
      "Requirement already satisfied: nibabel in /opt/conda/lib/python3.10/site-packages (from fitz) (5.2.0)\n",
      "Requirement already satisfied: nipype in /opt/conda/lib/python3.10/site-packages (from fitz) (1.8.6)\n",
      "Requirement already satisfied: numpy in /opt/conda/lib/python3.10/site-packages (from fitz) (1.23.5)\n",
      "Requirement already satisfied: pandas in /opt/conda/lib/python3.10/site-packages (from fitz) (2.0.3)\n",
      "Requirement already satisfied: pyxnat in /opt/conda/lib/python3.10/site-packages (from fitz) (1.6)\n",
      "Requirement already satisfied: scipy in /opt/conda/lib/python3.10/site-packages (from fitz) (1.11.4)\n",
      "Requirement already satisfied: six in /opt/conda/lib/python3.10/site-packages (from configobj->fitz) (1.16.0)\n",
      "Requirement already satisfied: pyparsing!=3.0.0,!=3.0.1,!=3.0.2,!=3.0.3,<4,>=2.4.2 in /opt/conda/lib/python3.10/site-packages (from httplib2->fitz) (3.1.1)\n",
      "Requirement already satisfied: packaging>=17 in /opt/conda/lib/python3.10/site-packages (from nibabel->fitz) (23.2)\n",
      "Requirement already satisfied: click>=6.6.0 in /opt/conda/lib/python3.10/site-packages (from nipype->fitz) (8.1.7)\n",
      "Requirement already satisfied: networkx>=2.0 in /opt/conda/lib/python3.10/site-packages (from nipype->fitz) (3.2.1)\n",
      "Requirement already satisfied: prov>=1.5.2 in /opt/conda/lib/python3.10/site-packages (from nipype->fitz) (2.0.0)\n",
      "Requirement already satisfied: pydot>=1.2.3 in /opt/conda/lib/python3.10/site-packages (from nipype->fitz) (1.4.2)\n",
      "Requirement already satisfied: python-dateutil>=2.2 in /opt/conda/lib/python3.10/site-packages (from nipype->fitz) (2.8.2)\n",
      "Requirement already satisfied: rdflib>=5.0.0 in /opt/conda/lib/python3.10/site-packages (from nipype->fitz) (7.0.0)\n",
      "Requirement already satisfied: simplejson>=3.8.0 in /opt/conda/lib/python3.10/site-packages (from nipype->fitz) (3.19.2)\n",
      "Requirement already satisfied: traits!=5.0,<6.4,>=4.6 in /opt/conda/lib/python3.10/site-packages (from nipype->fitz) (6.3.2)\n",
      "Requirement already satisfied: filelock>=3.0.0 in /opt/conda/lib/python3.10/site-packages (from nipype->fitz) (3.13.1)\n",
      "Requirement already satisfied: etelemetry>=0.2.0 in /opt/conda/lib/python3.10/site-packages (from nipype->fitz) (0.3.1)\n",
      "Requirement already satisfied: looseversion in /opt/conda/lib/python3.10/site-packages (from nipype->fitz) (1.3.0)\n",
      "Requirement already satisfied: pytz>=2020.1 in /opt/conda/lib/python3.10/site-packages (from pandas->fitz) (2023.3.post1)\n",
      "Requirement already satisfied: tzdata>=2022.1 in /opt/conda/lib/python3.10/site-packages (from pandas->fitz) (2023.3)\n",
      "Requirement already satisfied: future>=0.16 in /opt/conda/lib/python3.10/site-packages (from pyxnat->fitz) (0.18.3)\n",
      "Requirement already satisfied: lxml>=4.3 in /opt/conda/lib/python3.10/site-packages (from pyxnat->fitz) (4.9.4)\n",
      "Requirement already satisfied: pathlib>=1.0 in /opt/conda/lib/python3.10/site-packages (from pyxnat->fitz) (1.0.1)\n",
      "Requirement already satisfied: requests>=2.20 in /opt/conda/lib/python3.10/site-packages (from pyxnat->fitz) (2.31.0)\n",
      "Requirement already satisfied: ci-info>=0.2 in /opt/conda/lib/python3.10/site-packages (from etelemetry>=0.2.0->nipype->fitz) (0.3.0)\n",
      "Requirement already satisfied: isodate<0.7.0,>=0.6.0 in /opt/conda/lib/python3.10/site-packages (from rdflib>=5.0.0->nipype->fitz) (0.6.1)\n",
      "Requirement already satisfied: charset-normalizer<4,>=2 in /opt/conda/lib/python3.10/site-packages (from requests>=2.20->pyxnat->fitz) (3.3.2)\n",
      "Requirement already satisfied: idna<4,>=2.5 in /opt/conda/lib/python3.10/site-packages (from requests>=2.20->pyxnat->fitz) (3.6)\n",
      "Requirement already satisfied: urllib3<3,>=1.21.1 in /opt/conda/lib/python3.10/site-packages (from requests>=2.20->pyxnat->fitz) (1.26.18)\n",
      "Requirement already satisfied: certifi>=2017.4.17 in /opt/conda/lib/python3.10/site-packages (from requests>=2.20->pyxnat->fitz) (2023.11.17)\n",
      "Note: you may need to restart the kernel to use updated packages.\n",
      "Collecting frontend\n",
      "  Downloading frontend-0.0.3-py3-none-any.whl (32 kB)\n",
      "Requirement already satisfied: starlette>=0.12.0 in /opt/conda/lib/python3.10/site-packages (from frontend) (0.27.0)\n",
      "Requirement already satisfied: uvicorn>=0.7.1 in /opt/conda/lib/python3.10/site-packages (from frontend) (0.24.0.post1)\n",
      "Collecting itsdangerous>=1.1.0 (from frontend)\n",
      "  Downloading itsdangerous-2.1.2-py3-none-any.whl (15 kB)\n",
      "Requirement already satisfied: aiofiles in /opt/conda/lib/python3.10/site-packages (from frontend) (22.1.0)\n",
      "Requirement already satisfied: anyio<5,>=3.4.0 in /opt/conda/lib/python3.10/site-packages (from starlette>=0.12.0->frontend) (3.7.1)\n",
      "Requirement already satisfied: click>=7.0 in /opt/conda/lib/python3.10/site-packages (from uvicorn>=0.7.1->frontend) (8.1.7)\n",
      "Requirement already satisfied: h11>=0.8 in /opt/conda/lib/python3.10/site-packages (from uvicorn>=0.7.1->frontend) (0.14.0)\n",
      "Requirement already satisfied: typing-extensions>=4.0 in /opt/conda/lib/python3.10/site-packages (from uvicorn>=0.7.1->frontend) (4.5.0)\n",
      "Requirement already satisfied: idna>=2.8 in /opt/conda/lib/python3.10/site-packages (from anyio<5,>=3.4.0->starlette>=0.12.0->frontend) (3.6)\n",
      "Requirement already satisfied: sniffio>=1.1 in /opt/conda/lib/python3.10/site-packages (from anyio<5,>=3.4.0->starlette>=0.12.0->frontend) (1.3.0)\n",
      "Requirement already satisfied: exceptiongroup in /opt/conda/lib/python3.10/site-packages (from anyio<5,>=3.4.0->starlette>=0.12.0->frontend) (1.2.0)\n",
      "Installing collected packages: itsdangerous, frontend\n",
      "Successfully installed frontend-0.0.3 itsdangerous-2.1.2\n",
      "Note: you may need to restart the kernel to use updated packages.\n"
     ]
    }
   ],
   "source": []
  },
  {
   "cell_type": "code",
   "execution_count": 3,
   "id": "d62716da-00f7-4940-8682-7c13354d816d",
   "metadata": {
    "tags": []
   },
   "outputs": [
    {
     "ename": "RuntimeError",
     "evalue": "Directory 'static/' does not exist",
     "output_type": "error",
     "traceback": [
      "\u001b[0;31m---------------------------------------------------------------------------\u001b[0m",
      "\u001b[0;31mRuntimeError\u001b[0m                              Traceback (most recent call last)",
      "Cell \u001b[0;32mIn[3], line 19\u001b[0m\n\u001b[1;32m     17\u001b[0m \u001b[38;5;28;01mimport\u001b[39;00m \u001b[38;5;21;01mvertexai\u001b[39;00m\n\u001b[1;32m     18\u001b[0m \u001b[38;5;28;01mfrom\u001b[39;00m \u001b[38;5;21;01mvertexai\u001b[39;00m\u001b[38;5;21;01m.\u001b[39;00m\u001b[38;5;21;01mlanguage_models\u001b[39;00m \u001b[38;5;28;01mimport\u001b[39;00m TextEmbeddingModel, TextGenerationModel\n\u001b[0;32m---> 19\u001b[0m \u001b[38;5;28;01mimport\u001b[39;00m \u001b[38;5;21;01mfitz\u001b[39;00m \n\u001b[1;32m     20\u001b[0m \u001b[38;5;28;01mimport\u001b[39;00m \u001b[38;5;21;01mjson\u001b[39;00m\n\u001b[1;32m     21\u001b[0m \u001b[38;5;28;01mimport\u001b[39;00m \u001b[38;5;21;01mtime\u001b[39;00m\n",
      "File \u001b[0;32m/opt/conda/lib/python3.10/site-packages/fitz/__init__.py:1\u001b[0m\n\u001b[0;32m----> 1\u001b[0m \u001b[38;5;28;01mfrom\u001b[39;00m \u001b[38;5;21;01mfrontend\u001b[39;00m \u001b[38;5;28;01mimport\u001b[39;00m \u001b[38;5;241m*\u001b[39m\n\u001b[1;32m      2\u001b[0m \u001b[38;5;28;01mimport\u001b[39;00m \u001b[38;5;21;01mtools\u001b[39;00m\n\u001b[1;32m      3\u001b[0m \u001b[38;5;28;01mimport\u001b[39;00m \u001b[38;5;21;01mos\u001b[39;00m\u001b[38;5;21;01m.\u001b[39;00m\u001b[38;5;21;01mpath\u001b[39;00m \u001b[38;5;28;01mas\u001b[39;00m \u001b[38;5;21;01mop\u001b[39;00m\n",
      "File \u001b[0;32m/opt/conda/lib/python3.10/site-packages/frontend/__init__.py:1\u001b[0m\n\u001b[0;32m----> 1\u001b[0m \u001b[38;5;28;01mfrom\u001b[39;00m \u001b[38;5;21;01m.\u001b[39;00m\u001b[38;5;21;01mevents\u001b[39;00m \u001b[38;5;28;01mimport\u001b[39;00m \u001b[38;5;241m*\u001b[39m\n\u001b[1;32m      2\u001b[0m \u001b[38;5;28;01mfrom\u001b[39;00m \u001b[38;5;21;01m.\u001b[39;00m \u001b[38;5;28;01mimport\u001b[39;00m config\n\u001b[1;32m      3\u001b[0m \u001b[38;5;28;01mfrom\u001b[39;00m \u001b[38;5;21;01m.\u001b[39;00m\u001b[38;5;21;01mcomponents\u001b[39;00m \u001b[38;5;28;01mimport\u001b[39;00m \u001b[38;5;241m*\u001b[39m\n",
      "File \u001b[0;32m/opt/conda/lib/python3.10/site-packages/frontend/events/__init__.py:1\u001b[0m\n\u001b[0;32m----> 1\u001b[0m \u001b[38;5;28;01mfrom\u001b[39;00m \u001b[38;5;21;01m.\u001b[39;00m\u001b[38;5;21;01mclipboard\u001b[39;00m \u001b[38;5;28;01mimport\u001b[39;00m \u001b[38;5;241m*\u001b[39m\n\u001b[1;32m      2\u001b[0m \u001b[38;5;28;01mfrom\u001b[39;00m \u001b[38;5;21;01m.\u001b[39;00m\u001b[38;5;21;01mevent_mixins\u001b[39;00m \u001b[38;5;28;01mimport\u001b[39;00m \u001b[38;5;241m*\u001b[39m\n\u001b[1;32m      3\u001b[0m \u001b[38;5;28;01mfrom\u001b[39;00m \u001b[38;5;21;01m.\u001b[39;00m\u001b[38;5;21;01mhash_change\u001b[39;00m \u001b[38;5;28;01mimport\u001b[39;00m \u001b[38;5;241m*\u001b[39m\n",
      "File \u001b[0;32m/opt/conda/lib/python3.10/site-packages/frontend/events/clipboard.py:2\u001b[0m\n\u001b[1;32m      1\u001b[0m \u001b[38;5;28;01mfrom\u001b[39;00m \u001b[38;5;21;01m.\u001b[39;00m\u001b[38;5;21;01mevent_mixins\u001b[39;00m \u001b[38;5;28;01mimport\u001b[39;00m ClipboardDataMixin\n\u001b[0;32m----> 2\u001b[0m \u001b[38;5;28;01mfrom\u001b[39;00m \u001b[38;5;21;01m.\u001b[39;00m\u001b[38;5;21;01m.\u001b[39;00m\u001b[38;5;21;01mdom\u001b[39;00m \u001b[38;5;28;01mimport\u001b[39;00m Event\n\u001b[1;32m      4\u001b[0m __all__ \u001b[38;5;241m=\u001b[39m [\u001b[38;5;124m'\u001b[39m\u001b[38;5;124mClipboardEvent\u001b[39m\u001b[38;5;124m'\u001b[39m]\n\u001b[1;32m      7\u001b[0m \u001b[38;5;28;01mclass\u001b[39;00m \u001b[38;5;21;01mClipboardEvent\u001b[39;00m(Event, ClipboardDataMixin):\n",
      "File \u001b[0;32m/opt/conda/lib/python3.10/site-packages/frontend/dom.py:439\u001b[0m\n\u001b[1;32m    435\u001b[0m         \u001b[38;5;28;01mexcept\u001b[39;00m \u001b[38;5;167;01mKeyError\u001b[39;00m:\n\u001b[1;32m    436\u001b[0m             \u001b[38;5;28;01mpass\u001b[39;00m\n\u001b[0;32m--> 439\u001b[0m \u001b[38;5;28;01mfrom\u001b[39;00m \u001b[38;5;21;01m.\u001b[39;00m \u001b[38;5;28;01mimport\u001b[39;00m dispatcher\n",
      "File \u001b[0;32m/opt/conda/lib/python3.10/site-packages/frontend/dispatcher.py:15\u001b[0m\n\u001b[1;32m     12\u001b[0m \u001b[38;5;28;01mfrom\u001b[39;00m \u001b[38;5;21;01mstarlette\u001b[39;00m\u001b[38;5;21;01m.\u001b[39;00m\u001b[38;5;21;01mendpoints\u001b[39;00m \u001b[38;5;28;01mimport\u001b[39;00m WebSocketEndpoint\n\u001b[1;32m     13\u001b[0m \u001b[38;5;28;01mfrom\u001b[39;00m \u001b[38;5;21;01mstarlette\u001b[39;00m\u001b[38;5;21;01m.\u001b[39;00m\u001b[38;5;21;01mwebsockets\u001b[39;00m \u001b[38;5;28;01mimport\u001b[39;00m WebSocket\n\u001b[0;32m---> 15\u001b[0m \u001b[38;5;28;01mfrom\u001b[39;00m \u001b[38;5;21;01m.\u001b[39;00m \u001b[38;5;28;01mimport\u001b[39;00m config, server\n\u001b[1;32m     16\u001b[0m \u001b[38;5;28;01mfrom\u001b[39;00m \u001b[38;5;21;01m.\u001b[39;00m\u001b[38;5;21;01masync_utils\u001b[39;00m \u001b[38;5;28;01mimport\u001b[39;00m later_await\n\u001b[1;32m     18\u001b[0m __all__ \u001b[38;5;241m=\u001b[39m [\u001b[38;5;124m'\u001b[39m\u001b[38;5;124mreact\u001b[39m\u001b[38;5;124m'\u001b[39m]\n",
      "File \u001b[0;32m/opt/conda/lib/python3.10/site-packages/frontend/server.py:24\u001b[0m\n\u001b[1;32m     21\u001b[0m __all__ \u001b[38;5;241m=\u001b[39m [\u001b[38;5;124m'\u001b[39m\u001b[38;5;124mroute\u001b[39m\u001b[38;5;124m'\u001b[39m, \u001b[38;5;124m'\u001b[39m\u001b[38;5;124mrun\u001b[39m\u001b[38;5;124m'\u001b[39m]\n\u001b[1;32m     23\u001b[0m app: Any \u001b[38;5;241m=\u001b[39m Starlette(debug\u001b[38;5;241m=\u001b[39mconfig\u001b[38;5;241m.\u001b[39mDEBUG)\n\u001b[0;32m---> 24\u001b[0m app\u001b[38;5;241m.\u001b[39mmount(config\u001b[38;5;241m.\u001b[39mSTATIC_ROUTE, \u001b[43mStaticFiles\u001b[49m\u001b[43m(\u001b[49m\u001b[43mdirectory\u001b[49m\u001b[38;5;241;43m=\u001b[39;49m\u001b[43mconfig\u001b[49m\u001b[38;5;241;43m.\u001b[39;49m\u001b[43mSTATIC_DIRECTORY\u001b[49m\u001b[43m)\u001b[49m, name\u001b[38;5;241m=\u001b[39mconfig\u001b[38;5;241m.\u001b[39mSTATIC_NAME)\n\u001b[1;32m     25\u001b[0m app\u001b[38;5;241m.\u001b[39madd_middleware(GZipMiddleware)\n\u001b[1;32m     26\u001b[0m app\u001b[38;5;241m.\u001b[39madd_middleware(\n\u001b[1;32m     27\u001b[0m     CORSMiddleware,\n\u001b[1;32m     28\u001b[0m     allow_origins\u001b[38;5;241m=\u001b[39m[\u001b[38;5;124m\"\u001b[39m\u001b[38;5;124m*\u001b[39m\u001b[38;5;124m\"\u001b[39m],\n\u001b[0;32m   (...)\u001b[0m\n\u001b[1;32m     31\u001b[0m     allow_headers\u001b[38;5;241m=\u001b[39m[\u001b[38;5;124m\"\u001b[39m\u001b[38;5;124m*\u001b[39m\u001b[38;5;124m\"\u001b[39m],\n\u001b[1;32m     32\u001b[0m )\n",
      "File \u001b[0;32m/opt/conda/lib/python3.10/site-packages/starlette/staticfiles.py:57\u001b[0m, in \u001b[0;36mStaticFiles.__init__\u001b[0;34m(self, directory, packages, html, check_dir, follow_symlink)\u001b[0m\n\u001b[1;32m     55\u001b[0m \u001b[38;5;28mself\u001b[39m\u001b[38;5;241m.\u001b[39mfollow_symlink \u001b[38;5;241m=\u001b[39m follow_symlink\n\u001b[1;32m     56\u001b[0m \u001b[38;5;28;01mif\u001b[39;00m check_dir \u001b[38;5;129;01mand\u001b[39;00m directory \u001b[38;5;129;01mis\u001b[39;00m \u001b[38;5;129;01mnot\u001b[39;00m \u001b[38;5;28;01mNone\u001b[39;00m \u001b[38;5;129;01mand\u001b[39;00m \u001b[38;5;129;01mnot\u001b[39;00m os\u001b[38;5;241m.\u001b[39mpath\u001b[38;5;241m.\u001b[39misdir(directory):\n\u001b[0;32m---> 57\u001b[0m     \u001b[38;5;28;01mraise\u001b[39;00m \u001b[38;5;167;01mRuntimeError\u001b[39;00m(\u001b[38;5;124mf\u001b[39m\u001b[38;5;124m\"\u001b[39m\u001b[38;5;124mDirectory \u001b[39m\u001b[38;5;124m'\u001b[39m\u001b[38;5;132;01m{\u001b[39;00mdirectory\u001b[38;5;132;01m}\u001b[39;00m\u001b[38;5;124m'\u001b[39m\u001b[38;5;124m does not exist\u001b[39m\u001b[38;5;124m\"\u001b[39m)\n",
      "\u001b[0;31mRuntimeError\u001b[0m: Directory 'static/' does not exist"
     ]
    }
   ],
   "source": [
    "from __future__ import annotations\n",
    "import backoff\n",
    "from tenacity import retry, stop_after_attempt, wait_random_exponential\n",
    "from google.api_core.exceptions import ResourceExhausted\n",
    "from google.api_core.client_options import ClientOptions\n",
    "from google.api_core.exceptions import AlreadyExists\n",
    "from google.cloud import documentai\n",
    "import numpy as np\n",
    "import glob\n",
    "import os\n",
    "from typing import Dict, List\n",
    "import pandas as pd\n",
    "from logging import error\n",
    "import re\n",
    "import textwrap\n",
    "from typing import Tuple, List\n",
    "import vertexai\n",
    "from vertexai.language_models import TextEmbeddingModel, TextGenerationModel\n",
    "from PyPDF2 import PdfReader, PdfWriter\n",
    "import json\n",
    "import time\n",
    "import numpy as np\n"
   ]
  },
  {
   "cell_type": "code",
   "execution_count": null,
   "id": "4a55eff4-80cd-48e2-a1d5-f16c87cd989c",
   "metadata": {},
   "outputs": [],
   "source": []
  },
  {
   "cell_type": "markdown",
   "id": "ddc2c798-e51b-436b-bb56-702a3c7e807e",
   "metadata": {},
   "source": [
    "## Pre-configuration of GCP project"
   ]
  },
  {
   "cell_type": "code",
   "execution_count": 4,
   "id": "42bebf17-63d6-43cc-92e2-19a78556f68a",
   "metadata": {
    "tags": []
   },
   "outputs": [
    {
     "name": "stdout",
     "output_type": "stream",
     "text": [
      "\u001b[1;31mERROR:\u001b[0m (gcloud.services.enable) User [playpen-922939-consumer-sa@playpen-922939.iam.gserviceaccount.com] does not have permission to access projects instance [playpen-922939] (or it may not exist): Permission denied to enable service [documentai.googleapis.com]\n",
      "Permission denied to enable service [storage.googleapis.com]\n",
      "Permission denied to enable service [aiplatform.googleapis.com]\n",
      "Help Token: ARD_zUbbm61F9QogvcWdM6qXC0YcMe_6yDL_LYagGc2JC8da7SW5-rijzB_OV7jqFdRb8X113OeQeYqG6NY8CMzRLVUqvy6xBc_RVANSSgi3T7_2\n",
      "- '@type': type.googleapis.com/google.rpc.PreconditionFailure\n",
      "  violations:\n",
      "  - subject: ?error_code=110002&service=serviceusage.googleapis.com&permission=serviceusage.services.enable&resource=playpen-922939\n",
      "    type: googleapis.com\n",
      "- '@type': type.googleapis.com/google.rpc.ErrorInfo\n",
      "  domain: serviceusage.googleapis.com\n",
      "  metadata:\n",
      "    permission: serviceusage.services.enable\n",
      "    resource: playpen-922939\n",
      "    service: serviceusage.googleapis.com\n",
      "  reason: AUTH_PERMISSION_DENIED\n"
     ]
    }
   ],
   "source": [
    "#Once the project is created in the console, extract the parameters here\n",
    "PROJECT_ID = !gcloud config get project\n",
    "PROJECT_ID = PROJECT_ID.n\n",
    "LOCATION = \"europe-west2\"\n",
    "LOCATION_DEPLOY = \"europe-west2\" #Location to deploy GCP resources\n",
    "\n",
    "!gcloud services enable documentai.googleapis.com storage.googleapis.com aiplatform.googleapis.com"
   ]
  },
  {
   "cell_type": "code",
   "execution_count": 13,
   "id": "a4e5522f-f6b1-420e-b84f-1bff0aef13e2",
   "metadata": {
    "tags": []
   },
   "outputs": [
    {
     "data": {
      "text/plain": [
       "ClientOptions: {'api_endpoint': 'europe-west2-documentai.googleapis.com', 'client_cert_source': None, 'client_encrypted_cert_source': None, 'quota_project_id': None, 'credentials_file': None, 'scopes': None, 'api_key': None, 'api_audience': None}"
      ]
     },
     "execution_count": 13,
     "metadata": {},
     "output_type": "execute_result"
    }
   ],
   "source": [
    "client_options"
   ]
  },
  {
   "cell_type": "markdown",
   "id": "563ce793-b170-4972-a35e-52b71cb9b9d6",
   "metadata": {
    "tags": []
   },
   "source": [
    "The processor is now ready to be defined by calling the document AI API. Code source: https://github.com/GoogleCloudPlatform/generative-ai/blob/main/language/use-cases/document-qa/question_answering_documentai_vector_store_palm.ipynb.\n"
   ]
  },
  {
   "cell_type": "markdown",
   "id": "a2c82772-4c03-415e-b2dd-dca3b3cb51aa",
   "metadata": {},
   "source": [
    "## 1. Create the processor\n",
    "\n",
    "\n",
    "\"There are two types of Document AI processors:\n",
    "\n",
    "Pre-trained processors: These processors are pre-trained on a large dataset of documents and can be used to perform common document processing tasks, such as Optical Character Recognition (OCR), form parsing, and entity extraction.\n",
    "Custom processors: These processors can be trained on your own dataset of documents to perform specific tasks that are not covered by the pre-trained processors.\n",
    "Refer to Full processor and detail list for all supported processors.\n",
    "\n",
    "Processors take a PDF or image file as input and output the data in the Document format.\""
   ]
  },
  {
   "cell_type": "code",
   "execution_count": 5,
   "id": "77d89047-ad83-4dcf-b773-c5123ea052ed",
   "metadata": {
    "tags": []
   },
   "outputs": [
    {
     "name": "stdout",
     "output_type": "stream",
     "text": [
      "Created Processor projects/826034033156/locations/europe-west2/processors/f825b2b298580af9\n"
     ]
    }
   ],
   "source": [
    "# Edit these variables before running the code.\n",
    "project_id = PROJECT_ID\n",
    "\n",
    "# See https://cloud.google.com/document-ai/docs/regions for all options.\n",
    "location = LOCATION\n",
    "\n",
    "# Must be unique per project, e.g.: \"My Processor\"\n",
    "processor_display_name = \"my_processor1\"\n",
    "\n",
    "# You must set the `api_endpoint` if you use a location other than \"us\".\n",
    "client_options = ClientOptions(api_endpoint=f\"{location}-documentai.googleapis.com\")\n",
    "\n",
    "\n",
    "#1. Create the processor: you can not create multiple processors with the same display name\n",
    "def create_processor(\n",
    "    project_id: str, location: str, processor_display_name: str\n",
    ") -> documentai.Processor:\n",
    "    client = documentai.DocumentProcessorServiceClient(client_options=client_options)\n",
    "\n",
    "    # The full resource name of the location\n",
    "    # e.g.: projects/project_id/locations/location\n",
    "    parent = client.common_location_path(project_id, location)\n",
    "\n",
    "    # Create a processor\n",
    "    return client.create_processor(\n",
    "        parent=parent,\n",
    "        processor=documentai.Processor(\n",
    "            display_name=processor_display_name, type_=\"OCR_PROCESSOR\" #we are using the pre-trained OCR processor\n",
    "        ),\n",
    "    )\n",
    "\n",
    "\n",
    "try:\n",
    "    processor = create_processor(project_id, location, processor_display_name)\n",
    "    print(f\"Created Processor {processor.name}\")\n",
    "except AlreadyExists as e:\n",
    "    print(\n",
    "        f\"Processor already exits, change the processor name and rerun this code. {e.message}\"\n",
    "    )\n",
    "\n",
    "    \n",
    "\n",
    "#2. Define process document function which takes the processor name and file path of the document and extracts the text from the document.  \n",
    "def process_document(\n",
    "    processor_name: str,\n",
    "    file_path: str,\n",
    ") -> documentai.Document:\n",
    "    client = documentai.DocumentProcessorServiceClient(client_options=client_options)\n",
    "\n",
    "    # Read the file into memory\n",
    "    with open(file_path, \"rb\") as image:\n",
    "        image_content = image.read()\n",
    "\n",
    "    # Load Binary Data into Document AI RawDocument Object\n",
    "    raw_document = documentai.RawDocument(\n",
    "        content=image_content, mime_type=\"application/pdf\"\n",
    "    )\n",
    "\n",
    "    # Configure the process request\n",
    "    request = documentai.ProcessRequest(name=processor_name, raw_document=raw_document)\n",
    "\n",
    "    result = client.process_document(request=request)\n",
    "\n",
    "    return result.document\n",
    "\n"
   ]
  },
  {
   "cell_type": "markdown",
   "id": "a1a7af7a-de00-4d2b-8ed0-fc7170ca997a",
   "metadata": {},
   "source": [
    "The document AI processor set a limit of 15 pages of PDF to be processed at once. The following function will split the initial PDF into pdfs of 15 pages max. The created pdfs are saved under new folder pdf_chunks with path labelled 1 to n (n=number of pdf chunks)"
   ]
  },
  {
   "cell_type": "code",
   "execution_count": 34,
   "id": "5f1ad063-786c-4660-9dff-7e165f40b759",
   "metadata": {
    "tags": []
   },
   "outputs": [],
   "source": [
    "def split_and_save_pdf(input_pdf_path: str, max_pages_per_file: int):\n",
    "    # Create a folder to store the split PDFs\n",
    "    output_folder = os.path.join(os.path.dirname(input_pdf_path), 'pdf_chunks')\n",
    "    os.makedirs(output_folder, exist_ok=True)\n",
    "    \n",
    "    pdf_paths = []\n",
    "    \n",
    "    # Open the input PDF\n",
    "    with open(input_pdf_path, 'rb') as pdf_file:\n",
    "        pdf_reader = PdfReader(pdf_file)\n",
    "        num_pages = len(pdf_reader.pages)\n",
    "        \n",
    "        # Calculate the number of files needed\n",
    "        num_files = (num_pages + max_pages_per_file - 1) // max_pages_per_file\n",
    "        \n",
    "        # Split the PDF into multiple files\n",
    "        for i in range(num_files):\n",
    "            start_page = i * max_pages_per_file\n",
    "            end_page = min((i + 1) * max_pages_per_file, num_pages)\n",
    "            \n",
    "            pdf_writer = PdfWriter()\n",
    "            # Etract pages and add to tthe new PDF writer\n",
    "            for page_num in range(start_page,end_page):\n",
    "                pdf_writer.add_page(pdf_reader.pages[page_num])\n",
    "            \n",
    "            output_pdf_path = os.path.join(output_folder,f'pdf{i+1}.pdf')\n",
    "            \n",
    "            # Save the new PDF file\n",
    "            with open(output_pdf_path, 'wb') as output_pdf:\n",
    "                pdf_writer.write(output_pdf)\n",
    "                \n",
    "            print(f'Saved:{output_pdf_path}')\n",
    "            pdf_paths.append(output_pdf_path)\n",
    "            \n",
    "    return pdf_paths\n",
    "                "
   ]
  },
  {
   "cell_type": "markdown",
   "id": "02816726-2f33-46e6-94ef-76dd3e77abc0",
   "metadata": {},
   "source": [
    "We are now ready to extract the text from our pdf. \n",
    "\n",
    "## 2. Text extraction from PDF"
   ]
  },
  {
   "cell_type": "code",
   "execution_count": 35,
   "id": "161ebf6c-63ed-4abb-a32f-388c4334c8e1",
   "metadata": {
    "tags": []
   },
   "outputs": [
    {
     "name": "stdout",
     "output_type": "stream",
     "text": [
      "Saved:pdf_chunks/pdf1.pdf\n",
      "Saved:pdf_chunks/pdf2.pdf\n",
      "Saved:pdf_chunks/pdf3.pdf\n"
     ]
    }
   ],
   "source": [
    "# Set the desired parameters\n",
    "input_pdf_path = \"HOBL_SECR.pdf\" # Replace with your actual input PDF path\n",
    "max_pages_per_file = 15 # Set the desired maximum number of pages per file\n",
    "processor_name = processor.name # Assign the created processor name\n",
    "\n",
    "\n",
    "# 1. Split the PDF into pdf chunks of 15 pages max and save their paths \n",
    "pdf_paths = split_and_save_pdf(input_pdf_path, max_pages_per_file)\n",
    "\n",
    "\n",
    "# 2. Iterate through the pdf chunks and extract and join their text\n",
    "texts = []\n",
    "for pdf_path in pdf_paths:   \n",
    "    document = process_document(processor_name, file_path=pdf_path)\n",
    "    texts.append(document.text)\n",
    "    \n",
    "text = ''.join(texts)"
   ]
  },
  {
   "cell_type": "code",
   "execution_count": 36,
   "id": "9c28d80d-37f4-4e8f-868b-a56530ff34e0",
   "metadata": {
    "tags": []
   },
   "outputs": [
    {
     "data": {
      "text/plain": [
       "'Company Registration No. SC145746 (Scotland)\\nTHE HOUSE OF BRUAR LIMITED\\nANNUAL REPORT AND FINANCIAL STATEMENTS\\nFOR THE YEAR ENDED 31 JANUARY 2021\\nTHE HOUSE OF BRUAR LIMITED\\nCOMPANY INFORMATION\\nDirectors\\nMr P M Birkbeck\\nMr M N T Birkbeck\\nMr T Birkbeck\\n(Appointed 1 July 2020)\\nSecretary\\nMr P M Birkbeck\\nCompany number\\nSC145746\\nRegistered office\\nBlair Atholl\\nPitlochry\\nPerthshire\\nUnited Kingdom\\nPH18 5TW\\nAuditor\\nAzets Audit Services\\nFleet House\\nNew Road\\nLancaster\\nUnited Kingdom\\nLA1 1EZ\\nTHE HOUSE OF BRUAR LIMITED\\nCONTENTS\\nPage\\nStrategic report\\n1-3\\nDirectors\\' report\\n4-6\\nIndependent auditor\\'s report\\n7-9\\nStatement of comprehensive income\\n10\\nBalance sheet\\n11\\nStatement of changes in equity\\n12\\nN\\nNotes to the financial statements\\n13-27\\nTHE HOUSE OF BRUAR LIMITED\\nSTRATEGIC REPORT\\nFOR THE YEAR ENDED 31 JANUARY 2021\\nThe directors present the strategic report for the year ended 31 January 2021.\\nBusiness review\\nDue to Covid-19, the historically core retail operation of sales to visitors to the unique retail location in Perthshire,\\nScotland did not produce the majority of the turnover. For the first year since the company opened for business in 1995,\\nthe revenue generated from direct shopping channels exceeded that of traditional retail.\\nWith the exception of the Food Hall, the retail departments were closed from March 23rd until June 29th and then\\noperated on a reduced and restricted basis throughout the year until closing again on Christmas Eve 2020.\\nThe direct shopping channels were very successful throughout the entire year resulting in increased employment in the\\nlast quarter and extending to a shift pattern of nearly 24 hours of despatch per day. As the retail departments were quiet,\\nteam members were reallocated to the distribution centre located at Ballinluig.\\nThe House of Bruar continue to promote some of Britain\\'s finest produce, clothing and rural artwork. Within the various\\ndifferent halls you will find items ranging from traditional Scottish tweed to cashmere knitwear and locally sourced\\nfoodstuffs.\\nFinancial key performance indicators\\nThe traditional key performance indicators were maintained during the pandemic, but more concentration was placed on\\naspects such as cash flow, retention of employment, supply chain management, stock control and the ever changing\\ngovernment policies.\\nGiven that the company remained profitable and the turnover decreased by lees than 10% from £32.5m to £29.4m, with a\\nreduction in the closing stock and good control of overheads, which was made possible by the job retention scheme, the\\ncompany is pleased with the results for the year to 31st January 2021.\\nOther key performance indicators\\nOur income is mainly generated from two distinct sources: over the counter sales and direct shopping. A key indicator of\\nover the counter sales which is monitored daily is the number of visitors to the store. This is achieved by the use of a\\ncounter on the car parks and during the year to 31 January 2021, the number of vehicles visiting the site decreased due\\nto lockdown restrictions imposed on the organisation.\\nCounter sales are also monitored daily against the same day of the previous calendar year, gross profit is monitored on a\\nweekly basis and operating profit on a month by month basis.\\nDirect sales are monitored by reviewing the quantity of orders, the average value of orders placed and the average\\nnumber of units per order on a daily basis. These values include orders generated by catalogues, off the page adverts\\nand digital channels. The latter of which has grown significantly over the past few years.\\nThe balance sheet has remained stable and turnover of the business continues to improve.\\n- 1-\\nTHE HOUSE OF BRUAR LIMITED\\nSTRATEGIC REPORT (CONTINUED)\\nFOR THE YEAR ENDED 31 JANUARY 2021\\nFuture opportunities\\nThere continues to be an increasing demand for House of Bruar branded merchandise at retail and more significantly on\\nthe internet and via mail order. This is enhanced by the promotion of world famous brands offered via all channels to the\\ncustomer. The growth in the use of the internet for shopping due to Covid-19 has increased the future opportunities of the\\nbusiness and opened up international markets.\\nThe ease of price comparison on the internet is both a threat and an opportunity. Customers are able to benchmark all\\nproducts online very casily and the purchase decision can be very price focussed. In turn this means that the theatre\\naspect of retail is more important as well as a difference in the product range. The House of Bruar is well placed to take\\nadvantage of the market position.\\nThe ambition of long term relationships continues throughout all aspects of the business. Whilst this is an obvious\\nstatement for the relationship with staff members and customers, it is also true for suppliers and sub contractors. The\\nHouse of Bruar is very proud of the fact that several suppliers have been with the company since the inception 26 years\\nago.\\nThe future planning for the A9 dualling continues, although a specific start dates for the sections that cover The House of\\nBruar shop and the Ballinluig Distribution Centre have not been finalised. It is the belief of the company that, once\\ncompleted, the A9 will allow more people to visit Highland Perthshire and further north on a safer road.\\nDuring the disruptive construction phase of the A9, the business needs to expand the direct shopping elements of the\\noperation. The core of mail order fulfilment operations has moved from the main site to Ballinluig, which will aid the\\nprogression to a multi-season mail order business. There is already a requirement for further expansion of the distribution\\nsite, which may be hindered by the delays in the A9 improvements.\\nWith the development of electric vehicles, there are plans to create a charging hub at Bruar, which will incorporate\\nchargers of various speeds. Investigations are underway to assess the viability of using power generated from a\\nneighbouring hydro electric scheme.\\nCovid - 19\\nThe pandemic has continued to cause significant disruption during the 2021, with the retail departments being closed for\\nthe first four months of the year. Whilst not necessarily financially productive, the company policy has been to open every\\ndepartment at the first opportunity and to remove the need for furlough as quickly as possible.\\nCovid-19 continues to create problems with several aspects of the business from the supply chain to team members.\\nHowever the company will return to strong profitability and already has a stronger balance than as at 31st January 2020.\\n-2-\\nTHE HOUSE OF BRUAR LIMITED\\nSTRATEGIC REPORT (CONTINUED)\\nFOR THE YEAR ENDED 31 JANUARY 2021\\nSection 172 of the Companies Act 2006\\nThe Directors of the Company must act in accordance with a set of personal duties. These duties are detailed in s172 of\\nthe UK Companies Act 2006 summarised as follows:\\nA director of a company must act in the way he considers, in good faith, would be most likely to promote the success of\\nthe company for the benefit of its members as a whole, and in doing so have regard (amongst other matters) to:\\n•\\nthe likely consequences of any decision in the long term,\\n•\\n•\\n•\\nthe interests of the company\\'s employees,\\nthe need to foster the company\\'s business relationships with suppliers, customers and others,\\nthe impact of the company\\'s operations on the community and the environment,\\nthe desirability of the company maintaining a reputation for high standards of business conduct, and\\nthe need to act fairly as between members of the company.\\n•\\nThe longevity of employment for members of staff and internal promotion is a key policy of the business as proven by the\\nfact that at 31st January 2021, two thirds of the senior management team had joined at entry level working on the shop\\nfloor.\\nThe company has ensured that the staff are trained to a level, which provides excellent service to customers and guests.\\nThe ambition of long term relationships continues throughout all aspects of the business. Whilst this is an obvious\\nstatement for the relationship with customers, it is also true for suppliers and sub contractors. The House of Bruar is very\\nproud of the fact that several suppliers have been with the company since the inception 25 years ago.\\nDuring the lockdown the food hall remained open to provide a service to the local community.\\nWith the development of electric vehicles, there are plans to create a charging hub at Bruar, which will incorporate\\nchargers of various speeds. Investigations are underway to assess the viability of using power generated from a\\nneighbouring hydro electric scheme.\\nOn behalf of the board\\nMr P M Birkbeck\\nDirector\\n29 October 2021\\n- 3-\\nTHE HOUSE OF BRUAR LIMITED\\nDIRECTORS\\' REPORT\\nFOR THE YEAR ENDED 31 JANUARY 2021\\nThe directors present their annual repo\\nand financial statements for the year ended 31 January 2021.\\nPrincipal activities\\nThe principal activity of the company continued to be that of high quality retailing.\\nResults and dividends\\nThe results for the year are set out on page 10.\\nOrdinary dividends were paid amounting to £1,024,032. The directors do not recommend payment of a final dividend.\\nDirectors\\nThe directors who held office during the year and up to the date of signature of the financial statements were as follows:\\nMr P M Birkbeck\\nMr M N T Birkbeck\\nMr T Birkbeck\\n(Appointed 1 July 2020)\\nFinancial instruments\\nObjectives and policies\\nDetails of the company\\'s financial risk management objectives and policies are included in note 21 to the financial\\nstatements.\\nDisabled persons\\nApplications for employment by disabled persons are always fully considered, bearing in mind the aptitudes of the\\nthat their\\napplicant concerned. In the event of members of staff becoming disabled, every effort is made to ens\\nemployment within the company continues and that the appropriate training is arranged. It is the policy of the company\\nthat the training, career development and promotion of disabled persons should, as far as possible, be identical to that of\\nother employees.\\nEmployee involvement\\nThe company\\'s policy is to consult and discuss with employees, through unions, staff councils and at meetings, matters\\nlikely to affect employees\\' interests.\\nInformation about matters of concern to employees is given through information bulletins and reports which seek to\\nachieve a common awareness on the part of all employees of the financial and economic factors affecting the company\\'s\\nperformance.\\nThere is no employee share scheme at present, but the directors are considering the introduction of such a scheme as a\\nmeans of further encouraging the involvement of employees in the company\\'s performance.\\nAuditor\\nThe auditor. Azets Audit Services (previously trading as Baldwins Audit Services), is deemed to be reappointed under\\nsection 487(2) of the Companies Act 2006.\\nEnergy and carbon report\\nThe SECR regulations introduced in April 2019 is designed to increase internal awareness of energy usage and cost,\\ndrive adoption of energy efficiency measures, standardise external reporting, provide greater transparency for\\nstakeholders on energy efficiency and emissions. Mark Birkbeck & Sons Group embraces these regulations and have\\nmade some important steps to help reduce the company\\'s energy efficiency and emissions.\\n4-\\nTHE HOUSE OF BRUAR LIMITED\\nDIRECTORS\\' REPORT (CONTINUED)\\nFOR THE YEAR ENDED 31 JANUARY 2021\\nkWh\\nkWh\\nEnergy consumption\\nAggregate of energy consumption in the year\\n- Gas combustion\\n740,145\\n- Fuel consumed for transport\\n2,278,769\\n- Electricity purchased\\n118,848\\n3,137,762\\nEmissions of CO2 equivalent\\nMetric\\nMetric\\ntonnes\\ntonnes\\nScope 1 direct emissions\\n- Gas combustion\\n240.00\\n- Fuel consumed for owned transport\\n240.00\\nScope 2 indirect emissions\\n- Electricity purchased\\n531.00\\nScope 3 - other indirect emissions\\n- Fuel consumed for transport not owned by the company\\n45.00\\nTotal gross emissions\\n816.00\\nIntensity ratio\\nTonnes CO2e per turnover [£m\\'s]\\n28.14\\nQuantification and reporting methodology\\nWe have followed the 2019 HM Government Environmental Reporting Guidelines. We have also used the GHG Reporting\\nProtocol - Corporate Standard and have used the 2020 UK Government\\'s Conversion Factors for Company Reporting.\\nIntensity measurement\\nThe chosen intensity measurement ratio is total gross emissions in tonnes of CO2e per £1m of turnover.\\nMeasures taken to improve energy efficiency\\nThere has been a Migration to LED lighting over last seven years to the capital cost of approximately £150,000.\\nMovement sensors have also been fitted in all areas that are not customer related so that lights can not be left on and\\nconsume unnecessary energy.\\nBlankets for chillers have also been installed to reduce the requirement for chilling produce in the shops out of hours.\\nWhenever possible, the group will attempt to source products locally to reduce the overall supply miles and in turn reduce\\nthe groups carbon footprint.\\nThere is a continued investment into new, greener, energy consumption plant and machinery which improves overall\\nenergy efficiency within group.\\n-5-\\nTHE HOUSE OF BRUAR LIMITED\\nDIRECTORS\\' REPORT (CONTINUED)\\nFOR THE YEAR ENDED 31 JANUARY 2021\\nStatement of directors\\' responsibilities\\nThe directors are responsible for preparing the annual report and the financial statements in accordance with applicable\\nlaw and regulations.\\nCompany law requires the directors to prepare financial statements for each financial year. Under that law the directors\\nhave elected to prepare the financial statements in accordance with United Kingdom Generally Accepted Accounting\\nPractice (United Kingdom Accounting Standards and applicable law). Under company law the directors must not approve\\nthe financial statements unless they are satisfied that they give a truc and fair view of the state of affairs of the company\\nand of the profit or loss of the company for that period. In preparing these financial statements, the directors are required\\nto:\\nselect suitable accounting policies and then apply them consistently;\\nmake judgements and accounting estimates that are reasonable and prudent;\\nstate whether applicable UK Accounting Standards have been followed, subject to any material departures\\ndisclosed and explained in the financial\\nprepare the financial statements on the going concern basis unless it is inappropriate to presume that the\\ncompany will continue in business.\\nThe directors are responsible for keeping adequate accounting records that are sufficient to show and explain the\\ncompany\\'s transactions and disclose with reasonable accuracy at any time the financial position of the company and\\nenable them to ensure that the financial statements comply with the Companies Act 2006. They are also responsible for\\nsafeguarding the assets of the company and hence for taking reasonable steps for the prevention and detection of fraud\\nand other irregularities.\\nStatement of disclosure to auditor\\nSo far as each person who was a director at the date of approving this report is aware, there is no relevant audit\\ninformation of which the company\\'s auditor is unaware. Additionally, the directors individually have taken all the necessary\\nsteps that they ought to have taken as directors in order to make themselves aware of all relevant audit information and to\\nestablish that the company\\'s auditor is aware of that information.\\nStrategic report\\nThe company has chosen in accordance with Companies Act 2006, s. 414C(11) to set out in the company\\'s strategic\\nreport information required by Large and Medium-sized Companies and Groups (Accounts and Reports) Regulations\\n2008, Sch. 7 to be contained in the directors\\' report. It has done so in respect of future outlook.\\nOn behalf of the board\\nMr P M Birkbeck\\nDirector\\n29 October 2021\\n-6-\\nTHE HOUSE OF BRUAR LIMITED\\nINDEPENDENT AUDITOR\\'S REPORT\\nTO THE MEMBERS OF THE HOUSE OF BRUAR LIMITED\\nOpinion\\nWe have audited the financial statements of The House of Bruar Limited (the \\'company\\') for the year ended 31 January\\n2021 which comprise the statement of comprehensive income, the balance sheet, the statement of changes in equity and\\nnotes to the financial statements, including significant accounting policies. The financial reporting framework that has\\nbeen applied in their preparation is applicable law and United Kingdom Accounting Standards, including FR$ 102 The\\nFinancial Reporting Standard applicable in the UK and Republic of Ireland (United Kingdom Generally Accepted\\nAccounting Practice).\\n•\\nIn our opinion the financial statements:\\ngive a true and fair view of the state of the company\\'s affairs as at 31 January 2021 and of its profit for the year\\nthen ended;\\nhave been properly prepared in accordance with United Kingdom Generally Accepted Accounting Practice; and\\nhave been prepared in accordance with the requirements of the Companies Act 2006.\\nBasis for opinion\\nWe conducted our audit in accordance with International Standards on Auditing (UK) (ISAS (UK)) and applicable law. Our\\nresponsibilities under those standards are further described in the Auditor\\'s responsibilities for the audit of the financial\\nstatements section of our report. We are independent of the company in accordance with the ethical requirements that are\\nrelevant to our audit of the financial statements in the UK, including the FRC\\'s Ethical Standard, and we have fulfilled our\\nother ethical responsibilities in accordance with these requirements. We believe that the audit evidence we have obtained\\nis sufficient and appropriate to provide a basis for our opinion.\\nConclusions relating to going concern\\nIn auditing the financial statements, we have concluded that the directors\\' use of the going concern basis of accounting in\\nthe preparation of the financial statements is appropriate.\\nBased on the work we have performed, we have not identified any material uncertainties relating to events or conditions\\nthat, individually or collectively, may cast significant doubt on the company\\'s ability to continue as a going concern for a\\nperiod of at least twelve months from when the financial statements are authorised for issue.\\nOur responsibilities and the responsibilities of the directors with respect to going concern are described in the relevant\\nsections of this report.\\nOther information\\nThe other information comprises the information included in the annual report other than the financial statements and our\\nauditor\\'s report thereon. The directors are responsible for the other information contained within the annual report. Our\\nopinion on the financial statements does not cover the other information and, except to the extent otherwise explicitly\\nstated in our report, we do not express any form of assurance conclusion thereon. Our responsibility is to read the other\\ninformation and, in doing so, consider whether the other information is materially inconsistent with the financial statements\\nor our knowledge obtained in the course of the audit, or otherwise appears to be materially misstated. If we identify such\\nmaterial inconsistencies or apparent material misstatements, we are required to determine whether this gives rise to a\\nmaterial misstatement in the financial statements themselves. If, based on the work we have performed, we conclude that\\nthere is a material misstatement of this other information, we are required to report that fact.\\nWe have nothing to report in this regard.\\nOpinions on other matters prescribed by the Companies Act 2006\\nIn our opinion, based on the work undertaken in the course of our audit:\\nthe information given in the strategic report and the directors\\' report for the financial year for which the financial\\nstatements are prepared is consistent with the financial statements; and\\n• the strategic report and the directors\\' report have been prepared in accordance with applicable legal requirements.\\n-7-\\nTHE HOUSE OF BRUAR LIMITED\\nINDEPENDENT AUDITOR\\'S REPORT (CONTINUED)\\nTO THE MEMBERS OF THE HOUSE OF BRUAR LIMITED\\nMatters on which we are required to report by exception\\nIn the light of the knowledge and understanding of the company and its environment obtained in the course of the audit,\\nwe have not identified material misstatements in the strategic report and the directors\\' report.\\nWe have nothing to report in respect of the following matters where the Companies Act 2006 requires us to report to you\\nif, in our opinion:\\nadequate accounting records have not been kept, or returns adequate for our audit have not been received from\\nbranches not visited by us; or\\nthe financial statements are not in agreement with the accounting records and returns; or\\ncertain disclosures of directors\\' remuneration specified by law are not made; cr\\nwe have not received all the information and explanations we require for our audit.\\nResponsibilities of directors\\nAs explained more fully in the directors\\' responsibilities statement, the directors are responsible for the preparation of the\\nfinancial statements and for being satisfied that they give a true and fair view, and for such internal control as the directors\\ndetermine is necessary to enable the preparation of financial statements that are free from material misstatement,\\nwhether due to fraud or error. In preparing the financial statements, the directors are responsible for assessing the\\ncompany\\'s ability to continue as a going concern, disclosing, as applicable, matters related to going concern and using\\nthe going concern basis of accounting unless the directors either intend to liquidate the company or to cease operations,\\nor have no realistic alternative but to do so.\\nAuditor\\'s responsibilities for the audit of the financial statements\\nOur objectives are to obtain reasonable assurance about whether the financial statements as a whole are free from\\nmaterial misstatement, whether due to fraud or error, and to issue an auditor\\'s report that includes our opinion.\\nReasonable assurance is a high level of assurance but is not a guarantee that an audit conducted in accordance with\\nISAS (UK) will always detect a material misstatement when it exists. Misstatements can arise from fraud or error and are\\nconsidered material if, individually or in the aggregate, they could reasonably be expected to influence the economic\\ndecisions of users taken on the basis of these financial statements.\\nA further description of our responsibilities is available on the Financial Reporting Council\\'s website at:\\nhttps://www.frc.org.uk/auditorsresponsibilities. This description forms part of our auditor\\'s report.\\n-8-\\nTHE HOUSE OF BRUAR LIMITED\\nINDEPENDENT AUDITOR\\'S REPORT (CONTINUED)\\nTO THE MEMBERS OF THE HOUSE OF BRUAR LIMITED\\nExtent to which the audit was considered capable of detecting irregularities, including fraud\\nIrregularities, including fraud, are instances of non-compliance with laws and regulations. We design procedures in line\\nwith our responsibilities, outlined above and on the Financial Reporting Council\\'s website, to detect material\\nmisstatements in respect of irregularities, including fraud.\\nWe obtain and update our understanding of the entity, its activities, its control environment, and likely future\\ndevelopments, including in relation to the legal and regulatory framework applicable and how the entity is complying with\\nthat framework. Based on this understanding, we identify and assess the risks of material misstatement of the financial\\nstatements, whether due to fraud or error, design and perform audit procedures responsive to those risks, and obtain\\naudit evidence that is sufficient and appropriate to provide a basis for our opinion. This includes consideration of the risk\\nof acts by the entity that were contrary to applicable laws and regulations, including fraud.\\nIn response to the risk of irregularities and non-compliance with laws and regulations, including fraud, we designed\\nprocedures which included:\\n• Enquiry of management and those charged with governance around actual and potential litigation and claims as\\nwell as actual, suspected and alleged fraud;\\n• Reviewing minutes of meetings of those charged with governance;\\n• Assessing the extent of compliance with the laws and regulations considered to have a direct material effect on the\\nfinancial statements or the operations of the company through enquiry and inspection;\\n• Reviewing financial statement disclosures and testing to supporting documentation to assess compliance with\\napplicable laws and regulations;\\nPerforming audit work over the risk of management bias and override of controls, including testing of journal\\nentries and other adjustments for appropriateness, evaluating the business rationale of significant transactions\\noutside the normal course of business and reviewing accounting estimates for indicators of potential bias.\\n•\\nBecause of the inherent limitations of an audit, there is a risk that we will not detect all irregularities, including those\\nleading to a material misstatement in the financial statements or non-compliance with regulation. This risk increases the\\nmore that compliance with a law or regulation is removed from the events and transactions reflected in the financial\\nstatements, as we will be less likely to become aware of instances of non-compliance. The risk of not detecting a material\\nmisstatement resulting from fraud is higher than for one resulting from error, as fraud may involve collusion, forgery,\\nintentional omissions, misrepresentations, or the override of internal control.\\nUse of our report\\nThis report is made solely to the company\\'s members, as a body, in accordance with Chapter 3 of Part 16 of the\\nCompanies Act 2006. Our audit work has been undertaken so that we might state to the company\\'s members those\\nmatters we are required to state to them in an auditor\\'s report and for no other purpose. To the fullest extent permitted by\\nlaw, we do not accept or assume responsibility to anyone other than the company and the company\\'s members, as a\\nbody, for our audit work, for this report, or for the opinions we have formed.\\nSusanna Cassey (Senior Statutory Auditor)\\nFor and on behalf of Azets Audit Services\\n29 October 2021\\nChartered Accountants\\nStatutory Auditor\\nFleet House\\nNew Road\\nLancaster\\nUnited Kingdom\\nLA1 1EZ\\n-9-\\nTHE HOUSE OF BRUAR LIMITED\\nSTATEMENT OF COMPREHENSIVE INCOME\\nFOR THE YEAR ENDED 31 JANUARY 2021\\n2021\\n2020\\nNotes\\n£\\n£\\nTurnover\\n3\\n29,372,475\\n32,567,668\\nCost of sales\\n(17,513,067)\\n(18,159,787)\\nGross profit\\n11,859,408\\n14,407,881\\nAdministrative expenses\\n(11,529,294)\\n(9,681,039)\\n895,135\\nOther operating income\\n220,907\\nOperating profit\\n4\\n3,073,504\\n3,099,494\\nInterest receivable and similar income\\n8\\n625\\nInterest payable and similar expenses\\n9\\n(6,178)\\n(13,196)\\nProfit before taxation\\n3,067,326\\n3,086,923\\nTax on profit\\n10\\n10\\n(465,473)\\n(652,133)\\nProfit for the financial year\\n2,601,853\\n2,434,790\\nThe profit and loss account has been prepared on the basis that all operations are continuing operations.\\n- 10-\\nTHE HOUSE OF BRUAR LIMITED\\nBALANCE SHEET\\nAS AT 31 JANUARY 2021\\n2021\\n2020\\nNotes\\n£\\n£\\n£\\n£\\nFixed assets\\n12\\n86,310\\n136,195\\nIntangible assets\\nTangible assets\\n22\\n13\\n15,261,655\\n15,726,796\\n15,347,965\\n15,862,991\\nCurrent assets\\nStocks\\n14\\n6,943,205\\n8,221,740\\n15\\nDebtors\\n15\\n802,996\\n917,112\\nCash at bank and in hand\\n6,609,397\\n2,001,454\\n14,355,598\\n11,140,306\\nCreditors: amounts falling due within one\\n16\\nyear\\n(4,365,139)\\n(3,360,586)\\nNet current assets\\n9,990,459\\n7,779,720\\nTotal assets less current liabilities\\n25,338,424\\n23,642,711\\nProvisions for liabilities\\nDeferred tax liability\\n17\\n440,492\\n322,600\\n(440,492)\\n(322,600)\\nNet assets\\n24,897,932\\n23,320,111\\nCapital and reserves\\nCalled up share capital\\n19\\n226,000\\n226,000\\nRevaluation reserve\\n1,631,132\\n1,680,748\\nProfit and loss reserves\\n23,040,800\\n21,413,363\\nTotal equity\\n24,897,932\\n23,320,111\\nThe financial statements were approved by the board of directors and authorised for issue on 29 October 2021 and are\\nsigned on its behalf by:\\nMr P M Birkbeck\\nDirector\\nCompany Registration No. SC145746\\n- 11 -\\nTHE HOUSE OF BRUAR LIMITED\\nSTATEMENT OF CHANGES IN EQUITY\\nFOR THE YEAR ENDED 31 JANUARY 2021\\nShare capital Revaluation\\nProfit and\\nTotal\\nreserveloss reserves\\nNotes\\n£\\n£\\n£\\n£\\nBalance at 1 February 2019\\n226,000\\n1,730,364\\n22,335,748\\n24,292,112\\nYear ended 31 January 2020:\\nProfit and total comprehensive income for the year\\n2,434,790\\n2,434,790\\nDividends\\n11\\n(3,406,791) (3,406,791)\\n49,616\\nOther movements\\n(49,616)\\nBalance at 31 January 2020\\n226,000\\n1,680,748\\n21,413,363\\n23,320,111\\nYear ended 31 January 2021:\\nProfit and total comprehensive income for the year\\n2,601,853\\n2,601,853\\nDividends\\n11\\n(1,024,032) (1,024,032)\\n49,616\\nOther movements\\n(49,616)\\nBalance at 31 January 2021\\n226,000\\n1,631,132\\n23,040,800\\n24,897,932\\n- 12 -\\nTHE HOUSE OF BRUAR LIMITED\\nNOTES TO THE FINANCIAL STATEMENTS\\nFOR THE YEAR ENDED 31 JANUARY 2021\\n1\\nAccounting policies\\nCompany information\\nThe House of Bruar Limited is a private company limited by shares incorporated in Scotland. The registered office\\nis The House of Bruar, Blair Atholl, Perth, Perthshire, PH18 5TW.\\n1.1\\nAccounting convention\\nThese financial statements have been prepared in accordance with FRS 102 \"The Financial Reporting Standard\\napplicable in the UK and Republic of Ireland\" (\"FRS 102\") and the requirements of the Companies Act 2006.\\nThe financial statements are prepared in sterling, which is the functional currency of the company. Monetary a\\nmounts in these financial statements are rounded to the nearest £.\\nThe financial statements have been prepared under the historical cost convention, modified to include the holding\\nof previously revalued freehold property at deemed cost. The principal accounting policies adopted are set out\\nbelow.\\nThis company is a qualifying entity for the purposes of FRS 102, being a member of a group where the parent of\\nthat group prepares publicly available consolidated financial statements, including this company, which are\\nintended to give a true and fair view of the assets, liabilities, financial position and profit or loss of the group. The\\ncompany has therefore taken advantage of exemptions from the following disclosure requirements:\\n• Section 4 \\'Statement of Financial Position\\' Reconciliation of the opening and closing number of shares;\\nSection 7 \\'Statement of Cash Flows\\' - Presentation of a statement of cash flow and related notes and\\n•\\ndisclosures;\\n• Section 11 \\'Basic Financial Instruments\\' and Section 12 \\'Other Financial Instrument Issues\\' - Carrying\\namounts, interest income/expense and net gains/losses for each category of financial instrument; basis of\\ndetermining fair values; details of collateral, loan defaults or breaches, details of hedges, hedging fair value\\nchanges recognised in profit or loss and in other comprehensive income;\\n• Section 26 \\'Share based Payment\\' - Share-based payment expense charged to profit or loss, reconciliation\\nof opening and closing number and weighted average exercise price of share options, how the fair value of\\noptions granted was measured, measurement and carrying amount of liabilities for cash-settled share-based\\npayments, explanation of modifications to arrangements;\\nSection 33 \\'Related Party Disclosures\\' Compensation for key management personnel.\\nThe financial statements of the company are consolidated in the financial statements of Mark Birkbeck & Sons\\nLimited. These consolidated financial statements are available from its registered office, The House of Bruar, Blair\\nAtholl, Perth, Perthshire, PH18 5TW.\\n1.2\\nGoing concern\\nAt the time of approving the financial statements, the directors have a reasonable expectation that the company\\nhas adequate resources to continue in operational existence for the foreseeable future. In making their assessment\\nthe directors have considered the impact of the COVID-19 pandemic. Thus the directors continue to adopt the\\ngoing concern basis of accounting in preparing the financial statements.\\n-13-\\nTHE HOUSE OF BRUAR LIMITED\\nNOTES TO THE FINANCIAL STATEMENTS (CONTINUED)\\nFOR THE YEAR ENDED 31 JANUARY 2021\\n1\\nAccounting policies\\n(Continued)\\n1.3\\nTurnover\\nTurnover is recognised at the fair value of the consideration received or receivable for goods and services provided\\nin the normal course of business, and is shown net of VAT and other sales related taxes. The fair value of\\nconsideration takes into account trade discounts, settlement discounts and volume rebates.\\nWhen cash inflows are deferred and represent a financing arrangement, the fair value of the consideration is the\\npresent value of the future receipts. The difference between the fair value of the consideration and the nominal\\namount received is recognised as interest income.\\nRevenue from the sale of goods is recognised when the significant risks and rewards of ownership of the goods\\nhave passed to the buyer (usually on dispatch of the goods), the amount of revenue can be measured reliably, it is\\nprobable that the economic benefits associated with the transaction will flow to the entity and the costs incurred or\\nto be incurred in respect of the transaction can be measured reliably.\\n1.4\\nIntangible fixed assets other than goodwill\\nIntangible assets acquired separately from a business are recognised at cost and are subsequently measured at\\ncost less accumulated amortisation and accumulated impairment losses.\\nIntangible assets acquired on business combinations are recognised separately from goodwill at the acquisition\\ndate where it is probable that the expected future economic benefits that are attributable to the asset will flow to the\\nentity and the fair value of the asset can be measured reliably; the intangible asset arises from contractual or other\\nlegal rights; and the intangible asset is separable from the entity.\\nAmortisation is recognised so as to write off the cost or valuation of assets less their residual values over their\\nuseful lives on the following bases:\\nOther intangible assets\\n5% to 33% straight line\\n1.5\\nTangible fixed assets\\nTangible fixed assets are initially measured at cost and subsequently measured at cost or valuation, net of\\ndepreciation and any impairment losses.\\nDepreciation is recognised so as to write off the cost or valuation of assets less their residual values over their\\nuseful lives on the following bases:\\nFreehold land and buildings\\n2% straight line\\nover the term of the lease\\nLeasehold improvements\\nFixtures and fittings\\nComputers\\nMotor vehicles\\n15% straight line\\n33% straight line\\n25% straight line\\nThe gain or loss arising on the disposal of an asset is determined as the difference between the sale proceeds and\\nthe carrying value of the asset, and is credited or charged to profit or loss.\\nFreehold land\\nnot depreciated.\\n- 14-\\nTHE HOUSE OF BRUAR LIMITED\\nNOTES TO THE FINANCIAL STATEMENTS (CONTINUED)\\nFOR THE YEAR ENDED 31 JANUARY 2021\\n1\\nAccounting policies\\n(Continued)\\n1.6\\nImpairment of fixed assets\\nAt each reporting period end date, the company reviews the carrying amounts of its tangible and intangible assets\\nto determine whether there is any indication that those assets have suffered an impairment loss. If any such\\nindication exists, the recoverable amount of the asset is estimated in order to determine the extent of the\\nimpairment loss (if any). Where it is not possible to estimate the recoverable amount of an individual asset, the\\ncompany estimates the recoverable amount of the cash-generating unit to which the asset belongs.\\nRecoverable amount is the higher of fair value less costs to sell and value in use. In assessing value in use, the\\nestimated future cash flows are discounted to their present value using a pre-tax discount rate that reflects current\\nmarket assessments of the time value of money and the risks specific to the asset for which the estimates of future\\ncash flows have not been adjusted.\\nIf the recoverable amount of an asset (or cash-generating unit) is estimated to be less than its carrying amount, the\\ncarrying amount of the asset (or cash-generating unit) is reduced to its recoverable amount. An impairment loss is\\nrecognised immediately in profit or loss, unless the relevant asset is carried at a revalued amount, in which case\\nthe impairment loss is treated as a revaluation decrease.\\nRecognised impairment losses are reversed if, and only if, the reasons for the impairment loss have ceased to\\napply. Where an impairment loss subsequently reverses, the carrying amount of the asset (or cash-generating unit)\\nis increased to the revised estimate of its recoverable amount, but so that the increased carrying amount does not\\nexceed the carrying amount that would have been determined had no impairment loss been recognised for the\\nasset (or cash-generating unit) in prior years. A reversal of an impairment loss is recognised immediately in profit or\\nloss, unless the relevant asset is carried at a revalued amount, in which case the reversal of the impairment loss is\\ntreated as a revaluation increase.\\n1.7\\nStocks\\nStocks are stated at the lower of cost and estimated selling price less costs to complete and sell. Cost comprises\\ndirect materials and, where applicable, direct labour costs and those overheads that have been incurred in bringing\\nthe stocks to their present location and condition.\\nStocks held for distribution at no or nominal consideration are measured at the lower of cost and replacement cost,\\nadjusted where applicable for any loss of service potential.\\nCost is based on the cost of purchase on a weighted average basis.\\nAt each reporting date, an assessment is made for impairment. Any excess of the carrying amount of stocks over\\nits estimated selling price less costs to complete and sell is recognised as an impairment loss in profit or loss.\\nReversals of impairment losses are also recognised in profit or loss.\\n1.8\\nCash and cash equivalents\\nCash and cash equivalents are basic financial assets and include cash in hand deposits held at call with banks,\\nother short-term liquid investments with original maturities of three months or less, and bank overdrafts. Bank\\noverdrafts are shown within borrowings in current liabilities.\\n- 15-\\nTHE HOUSE OF BRUAR LIMITED\\nNOTES TO THE FINANCIAL STATEMENTS (CONTINUED)\\nFOR THE YEAR ENDED 31 JANUARY 2021\\n1\\nAccounting policies\\n(Continued)\\n1.9\\nFinancial instruments\\nThe company has elected to apply the provisions of Section 11 \\'Basic Financial Instruments and Section 12 \\'Other\\nFinancial Instruments Issues\\' of FRS 102 to all of its financial instruments.\\nFinancial instruments are recognised in the company\\'s balance sheet when the company becomes party to the\\ncontractual provisions of the instrument.\\nFinancial assets and liabilities are offset, with the net amounts presented in the financial statements, when there is\\na legally enforceable right to set off the recognised amounts and there is an intention to settle on a net basis or to\\nrealise the asset and settle the liability simultaneously.\\nBasic financial assets\\nBasic financial assets, which include debtors and cash and bank balances, are initially measured at transaction\\nprice including transaction costs and are subsequently carried at amortised cost using the effective interest method\\nunless the arrangement constitutes a financing transaction, where the transaction is measured at the present value\\nof the future receipts discounted at a market rate of interest. Financial assets classified as receivable within one\\nyear are not amortised.\\nOther financial assets\\nOther financial assets, including investments in equity instruments which are not subsidiaries, associates or joint\\nventures, are initially measured at fair value, which is normally the transaction price. Such assets are subsequently\\ncarried at fair value and the changes in fair value are recognised in profit or loss, except that investments in equity\\ninstruments that are not publicly traded and whose fair values cannot be measured reliably are measured at cost\\nless impairment.\\nImpairment of financial assets\\nFinancial assets, other than those held at fair value through profit and loss, are assessed for indicators of\\nimpairment at each reporting end date.\\nFinancial assets are impaired where there is objective evidence that, as a result of one or more events that\\noccurred after the initial recognition of the financial asset, the estimated future cash flows have been affected. If an\\nasset is impaired, the impairment loss is the difference between the carrying amount and the present value of the\\nestimated cash flows discounted at the asset\\'s original effective interest rate. The impairment loss is recognised in\\nprofit or loss.\\nIf there is a decrease in the impairment loss arising from an event occurring after the impairment was recognised,\\nthe impairment is reversed. The reversal is such that the current carrying amount does not exceed what the\\ncarrying amount would have been, had the impairment not previously been recognised. The impairment reversal is\\nrecognised in profit or loss.\\nDerecognition of financial assets\\nFinancial assets are derecognised only when the contractual rights to the cash flows from the asset expire or are\\nsettled, or when the company transfers the financial asset and substantially all the risks and rewards of ownership\\nto another entity, or if some significant risks and rewards of ownership are retained but control of the asset has\\ntransferred to another party that is able to sell the asset in its entirety to an unrelated third party.\\nClassification of financial liabilities\\nFinancial liabilities and equity instruments are classified according to the substance of the contractual\\narrangements entered into. An equity instrument is any contract that evidences a residual interest in the assets of\\nthe company after deducting all of its liabilities.\\n- 16-\\nTHE HOUSE OF BRUAR LIMITED\\nNOTES TO THE FINANCIAL STATEMENTS (CONTINUED)\\nFOR THE YEAR ENDED 31 JANUARY 2021\\n1\\nAccounting policies\\n(Continued)\\nBasic financial liabilities\\nBasic financial liabilities, including creditors, bank loans, loans from fellow group companies and preference shares\\nthat are classified as debt, are initially recognised at transaction price unless the arrangement constitutes a\\nfinancing transaction, where the debt instrument is measured at the present value of the future payments\\ndiscounted at a market rate of interest. Financial liabilities classified as payable within one year are not amortised.\\nDebt instruments are subsequently carried at amortised cost, using the effective interest rate method.\\nTrade creditors are obligations to pay for goods or services that have been acquired in the ordinary course of\\nbusiness from suppliers. Amounts payable are classified as current liabilities if payment is due within one year or\\nless. If not, they are presented as non-current liabilities. Trade creditors are recognised initially at transaction price\\nand subsequently measured at amortised cost using the effective interest method.\\nOther financial liabilities\\nDerivatives, including interest rate swaps and forward foreign exchange contracts, are not basic financial\\ninstruments. Derivatives are initially recognised at fair value on the date a derivative contract is entered into and\\nare subsequently re-measured at their fair value. Changes in the fair value of derivatives are recognised in profit or\\nloss in finance costs or finance income as appropriate, unless hedge accounting is applied and the hedge is a cash\\nflow hedge.\\nDebt instruments that do not meet the conditions in FRS 102 paragraph 11.9 are subsequently measured at fair\\nvalue through profit or loss. Debt instruments may be designated as being measured at fair value through profit or\\nloss to eliminate or reduce an accounting mismatch or if the instruments are measured and their performance\\nevaluated on a fair value basis in accordance with a documented risk management or investment strategy.\\nDerecognition of financial liabilities\\nFinancial liabilities are derecognised when the company\\'s contractual obligations expire or are discharged or\\ncancelled.\\n1.10 Equity instruments\\nEquity instruments issued by the company are recorded at the proceeds received, net of transaction costs.\\nDividends payable on equity instruments are recognised as liabilities once they are no longer at the discretion of\\nthe company.\\n1.11 Taxation\\nThe tax expense represents the sum of the tax currently payable and deferred tax.\\nCurrent tax\\nThe tax currently payable is based on taxable profit for the year. Taxable profit differs from net profit as reported in\\nthe profit and loss account because it excludes items of income or expense that are taxable or deductible in other\\nyears and it further excludes items that are never taxable or deductible. The company\\'s liability for current tax is\\ncalculated using tax rates that have been enacted or substantively enacted by the reporting end date.\\n- 17-\\nTHE HOUSE OF BRUAR LIMITED\\nNOTES TO THE FINANCIAL STATEMENTS (CONTINUED)\\nFOR THE YEAR ENDED 31 JANUARY 2021\\n1\\nAccounting policies\\n(Continued)\\nDeferred tax\\nDeferred tax liabilities are generally recognised for all timing differences and deferred tax assets are recognised to\\nthe extent that it is probable that they will be recovered against the reversal of deferred tax liabilities or other future\\ntaxable profits. Such assets and liabilities are not recognised if the timing difference arises from goodwill or from\\nthe initial recognition of other assets and liabilities in a transaction that affects neither the tax profit nor the\\naccounting profit.\\nThe carrying amount of deferred tax assets is reviewed at each reporting end date and reduced to the extent that it\\nis no longer probable that sufficient taxable profits will be available to allow all or part of the asset to be recovered.\\nDeferred tax is calculated at the tax rates that are expected to apply in the period when the liability is settled or the\\nasset is realised. Deferred tax is charged or credited in the profit and loss account, except when it relates to items\\ncharged or credited directly to equity, in which case the deferred tax is also dealt with in equity. Deferred tax assets\\nand liabilities are offset when the company has a legally enforceable right to offset current tax assets and liabilities\\nand the deferred tax assets and liabilities relate to taxes levied by the same tax authority.\\n1.12 Employee benefits\\nThe costs of short-term employee benefits are recognised as a liability and an expense, unless those costs are\\nrequired to be recognised as part of the cost of stock or fixed assets.\\nThe cost of any unused holiday entitlement is recognised in the period in which the employee\\'s services are\\nreceived.\\nTermination benefits are recognised immediately as an expense when the company is demonstrably committed to\\nterminate the employment of an employee or to provide termination benefits.\\n1.13 Retirement benefits\\nPayments to defined contribution retirement benefit schemes are charged as an expense as they fall due.\\n1.14 Leases\\nRentals payable under operating leases, including any lease incentives received, are charged to profit or loss on a\\nstraight line basis over the term of the relevant lease except where another more systematic basis is more\\nrepresentative of the time pattern in which economic benefits from the leases asset are consumed.\\nRental income from operating leases is recognised on a straight line basis over the term of the relevant lease.\\nInitial direct costs incurred in negotiating and arranging an operating lease are added to the carrying amount of the\\nleased asset and recognised on a straight line basis over the lease term.\\n1.15 Government grants\\nGovernment grants are recognised at the fair value of the asset received or receivable when there is reasonable\\nassurance that the grant conditions will be met and the grants will be received.\\nA grant that specifies performance conditions is recognised in income when the performance conditions are met.\\nWhere a grant does not specify performance conditions it is recognised in income when the proceeds are received\\nor receivable. A grant received before the recognition criteria are satisfied is recognised as a liability.\\n1.16 Foreign exchange\\nTransactions in currencies other than pounds sterling are recorded at the rates of exchange prevailing at the dates\\nof the transactions. At each reporting end date, monetary assets and liabilities that are denominated in foreign\\ncurrencies are retranslated at the rates prevailing on the reporting end date. Gains and losses arising on translation\\nin the period are included in profit or loss.\\n-18-\\nTHE HOUSE OF BRUAR LIMITED\\nNOTES TO THE FINANCIAL STATEMENTS (CONTINUED)\\nFOR THE YEAR ENDED 31 JANUARY 2021\\n2\\nJudgements and key sources of estimation uncertainty\\nIn the application of the company\\'s accounting policies, the directors are required to make judgements, estimates\\nand assumptions about the carrying amount of assets and liabilities that are not readily apparent from other\\nsources. The estimates and associated assumptions are based on historical experience and other factors that are\\nconsidered to be relevant. Actual results may differ from these estimates.\\nThe estimates and underlying assumptions are reviewed on an ongoing basis. Revisions to accounting estimates\\nare recognised in the period in which the estimate is revised where the revision affects only that period, or in the\\nperiod of the revision and future periods where the revision affects both current and future periods.\\nKey sources of estimation uncertainty\\nThe estimates and assumptions which have a significant risk of causing a material adjustment to the carrying\\namount of assets and liabilities are as follows.\\nDepreciation\\nThe annual depreciation charge for tangible assets is sensitive to changes in the estimated useful economic lives\\nand residual values of the assets. The useful economic lives and residual values are assessed annually.\\nStock\\nStock is stated at the lower of cost and estimated selling price less costs to complete and sell. The company\\nestimates the net realisable value of stock based on an assessment of expected retail prices and the ageing of\\nstock. Stock is reviewed on a regular basis and the company will make provisions or allowances for excess or\\nobsolete stock and write down stock to net realisable value when deemed necessary. Stock of £6,943,205 (2020:\\n£8,221,740) is stated after a provision of £174,925 (2020: £114,925).\\n3\\nTurnover and other revenue\\n2021\\n2020\\n£\\n£\\nTurnover analysed by class of business\\nRetail\\n29,372,475\\n32,567,668\\n2021\\n2020\\n£\\n£\\nOther significant revenue\\nInterest income\\n625\\nCommissions received\\n71,525\\n130,932\\nGrants received\\n752,830\\n2021\\n2020\\n£\\n£\\nTurnover analysed by geographical market\\nUnited Kingdom\\n27,914,163\\n31,559,068\\nRest of Europe\\n853,118\\n494,475\\nRest of the world\\n605,194\\n514,125\\n29,372,475\\n32,567,668\\n- 19-\\nTHE HOUSE OF BRUAR LIMITED\\nNOTES TO THE FINANCIAL STATEMENTS (CONTINUED)\\nFOR THE YEAR ENDED 31 JANUARY 2021\\n4\\nOperating profit\\n2021\\n2020\\nOperating profit for the year is slated after charging/(crediting):\\n£\\n£\\nExchange differences apart from those arising on financial instruments measured\\nat fair value through profit or loss\\nGovernment grants\\n28,973\\n186,868\\n(752,830)\\n988,976\\n956,700\\nDepreciation of owned tangible fixed assets\\nProfit on disposal of tangible fixed assets\\n(5,075)\\nAmortisation of intangible assets\\n75,955\\n91,318\\nOperating lease charges\\n199,132\\n330,230\\n5\\nAuditor\\'s remuneration\\n2021\\n2020\\nFees payable to the company\\'s auditor and associates:\\n£\\n£\\nFor audit services\\nAudit of the financial statements of the company\\n14,300\\n13,850\\nFor other services\\nTaxation compliance services\\n2,400\\n2,310\\nOther taxation services\\n385\\n385\\nAll other non-audit services\\n11,348\\n11,305\\n14,133\\n14,000\\n6\\nEmployees\\nThe average monthly number of persons (including directors) employed by the company during the year was:\\n2021\\n2020\\nNumber\\nNumber\\nSales staff\\n190\\nAdministrative staff\\n55\\nWarehouse staff\\n53\\n38\\n3 5 | 6 ||\\nTotal\\n298\\n- 20 -\\nTHE HOUSE OF BRUAR LIMITED\\nNOTES TO THE FINANCIAL STATEMENTS (CONTINUED)\\nFOR THE YEAR ENDED 31 JANUARY 2021\\n6\\nEmployees\\n(Continued)\\nTheir aggregate remuneration comprised:\\n2021\\n2020\\n£\\n£\\nWages and salaries\\n5,025,161\\n5,513,369\\nSocial security costs\\n394,372\\n431,843\\nPension costs\\n80,471\\n79,250\\n5,500,004\\n6,024,462\\n7\\nDirectors\\' remuneration\\n2021\\n2020\\n£\\n£\\n167,070\\n121,577\\nRemuneration for qualifying services\\nCompany pension contributions to defined contribution schemes\\n1,242\\n678\\n168,312\\n122,255\\nThe number of directors for whom retirement benefits are accruing under defined contribution schemes amounted\\nto 2 (2020 - 1).\\n8\\nInterest receivable and similar income\\n2021\\n2020\\n£\\n£\\nInterest income\\nInterest on bank deposits\\n625\\n8 |\\n9\\nInterest payable and similar expenses\\n2021\\n2020\\n£\\n£\\nInterest on bank overdrafts and loans\\n6,178\\n13,196\\n10\\nTaxation\\n2021\\n2020\\n£\\n£\\nCurrent tax\\n347,580\\n601,680\\nUK corporation tax on profits for the current period\\nAdjustments in respect of prior periods\\n1\\n(840)\\nTotal current tax\\n347,581\\n600,840\\n-21-\\nTHE HOUSE OF BRUAR LIMITED\\nNOTES TO THE FINANCIAL STATEMENTS (CONTINUED)\\nFOR THE YEAR ENDED 31 JANUARY 2021\\n10\\nTaxation\\n(Continued)\\n2021\\n2020\\n£\\n£\\nDeferred tax\\n79,939\\n51,293\\nOrigination and reversal of timing differences\\nChanges in tax rates\\n37,953\\nTotal deferred tax\\n117,892\\n51,293\\nTotal tax charge\\n465,473\\n652,133\\nThe actual charge for the year can be reconciled to the expected charge for the year based on the profit or loss and\\nthe standard rate of tax as follows:\\n2021\\n2020\\n£\\n£\\nProfit before taxation\\n3,067,326\\n3,086,923\\n582,792\\n586,515\\n8,981\\n25,897\\n37,953\\n(9,716)\\nExpected tax charge based on the standard rate of corporation tax in the UK of\\n19.00% (2020: 19.00%)\\nTax effect of expenses that are not deductible in determining taxable profit\\nEffect of change in corporation tax rate\\nGroup relief\\nPermanent capital allowances in excess of depreciation\\nDepreciation on assets not qualifying for tax allowances\\nResearch and development tax credit\\nOther non-reversing timing differences\\nOther permanent differences\\n(19,883)\\n(5,122)\\n145,896\\n65,626\\n(300,840)\\n38\\n407\\n(98)\\n(840)\\nUnder/(over) provided in prior years\\nTaxation charge for the year\\n465,473\\n652,133\\n11\\nDividends\\n2021\\n2020\\n£\\n£\\nFinal paid\\n3,406,791\\nInterim paid\\n1,024,032\\n1,024,032\\n3,406,791\\n- 22-\\nTHE HOUSE OF BRUAR LIMITED\\nNOTES TO THE FINANCIAL STATEMENTS (CONTINUED)\\nFOR THE YEAR ENDED 31 JANUARY 2021\\n12\\nIntangible fixed assets\\nOther intangible\\nassets\\n£\\nCost\\nAt 1 February 2020\\n861,823\\nAdditions\\n26,070\\nAt 31 January 2021\\n887,893\\nAmortisation and impairment\\nAt 1 February 2020\\n725,628\\nAmortisation charged for the year\\n75,955\\nAt 31 January 2021\\n801,583\\nCarrying amount\\nAt 31 January 2021\\n86,310\\nAt 31 January 2020\\n136,195\\nThe amortisation charge of £75,955 (2020: £91,318) is included in administrative expenses in profit and loss.\\n13\\nTangible fixed assets\\nFreehold land\\nLeasehold\\nFixtures and\\nComputers Motor vehicles\\nTotal\\nand buildings improvements\\nfittings\\n£\\n£\\n£\\n£\\n£\\n£\\nCost or valuation\\nAt 1 February 2020\\n14,678,761\\n1,346,396\\n3,363,992\\n560,406\\n355,094\\n20,304,649\\nAdditions\\n87,934\\n259,153\\n198,111\\n28,578\\n573,776\\nDisposals\\n(49,941)\\n(49,941)\\nAt 31 January 2021\\n14,766,695\\n1,346,396\\n3,573,204\\n758,517\\n383,672\\n20,828,484\\nDepreciation and\\nimpairment\\nAt 1 February 2020\\nDepreciation charged in the\\n1,755,799\\n350,480\\n1,911,629\\n322,850\\n237,095\\n4,577,853\\nyear\\n336,968\\n47,746\\n411,171\\n150,175\\n42,916\\n988,976\\nAt 31 January 2021\\n2,092,767\\n398,226\\n2,322,800\\n473,025\\n280,011\\n5,566,829\\nCarrying amount\\nAt 31 January 2021\\n12,673,928\\n948,170\\n1,250,404\\n285,492\\n103,661\\n15,261,655\\nAt 31 January 2020\\n12,922,962\\n995,916\\n1,452,363\\n237,556\\n117,999\\n15,726,796\\n- 23 -\\nTHE HOUSE OF BRUAR LIMITED\\nNOTES TO THE FINANCIAL STATEMENTS (CONTINUED)\\nFOR THE YEAR ENDED 31 JANUARY 2021\\n13\\nTangible fixed assets\\n(Continued)\\nIf the land and buildings held at deemed cost were stated on a historical cost basis rather than a deemed cost\\nbasis, the total amounts included would have been as follows:\\nCarrying value: £11,059,263 (2020: £11,258,681), being cost of £14,492,243 (2020: £14,404,309) and depreciation\\nof £3,432,980 (2020: £3,145,628).\\nLand and buildings were revalued at the date of transition to FRS 102 based on a valuation by DTZ Debenham Tie\\nLeung Limited, independent valuers not connected with the company, on an open market value for existing use\\nbasis. The valuation conforms to International Valuation Standard and was based on recent market transactions on\\narm\\'s length terms for similar properties.\\n14\\nStocks\\n2021\\n2020\\n£\\n£\\nFinished goods and goods for resale\\n6,943,205\\n8,221,740\\n15\\nDebtors\\n2021\\n2020\\nAmounts falling due within one year:\\n£\\n£\\nTrade debtors\\n135,303\\n472,617\\nAmounts owed by group undertakings\\n385,636\\n287,844\\nOther debtors\\n172,532\\n35,000\\nPrepayments and accrued income\\n109,525\\n121,651\\n802,996\\n917,112\\n16\\nCreditors: amounts falling due within one year\\n2021\\n2020\\n£\\n£\\nTrade creditors\\n1,041,313\\n1,022,573\\nAmounts owed to group undertakings\\n1,500,000\\n343,309\\n418,809\\nCorporation tax\\nOther taxation and social security\\n1,076,011\\n1,225,347\\nOther creditors\\n69,382\\n104,271\\nAccruals and deferred income\\n335,124\\n589,586\\n4,365,139\\n3,360,586\\n- 24-\\nTHE HOUSE OF BRUAR LIMITED\\nNOTES TO THE FINANCIAL STATEMENTS (CONTINUED)\\nFOR THE YEAR ENDED 31 JANUARY 2021\\n17\\nDeferred taxation\\nThe following are the major deferred tax liabilities and assets recognised by the company and movements thereon:\\nLiabilities\\nLiabilities\\n2021\\n2020\\nBalances:\\n£\\n£\\nAccelerated capital allowances\\n440,492\\n322,600\\n2021\\nMovements in the year:\\n£\\n322,600\\nLiability at 1 February 2020\\nCharge to profit or loss\\n117,892\\nLiability at 31 January 2021\\n440,492\\n18\\nRetirement benefit schemes\\n2021\\n2020\\nDefined contribution schemes\\n£\\n£\\nCharge to profit or loss in respect of defined contribution schemes\\n80,471\\n79,250\\nThe company operates a defined contribution pension scheme for all qualifying employees. The assets of the\\nscheme are held separately from those of the company in an independently administered fund.\\n19\\nShare capital\\n2021\\n2020\\n2021\\n2020\\nOrdinary share capital\\nNumber\\nNumber\\n£\\n£\\nIssued and fully paid\\nOrdinary shares of £1 each\\n226,000\\n226,000\\n226,000\\n226,000\\nThere is a single class of ordinary shares. There are no restrictions on the distribution of dividends and the\\nrepayment of capital.\\n- 25-\\nTHE HOUSE OF BRUAR LIMITED\\nNOTES TO THE FINANCIAL STATEMENTS (CONTINUED)\\nFOR THE YEAR ENDED 31 JANUARY 2021\\n20\\nFinancial risk management\\npjectives and policies\\nThe company holds or issues financial instruments in order to achieve three main objectives, being:\\n(a) to finance its operations;\\n(b) to manage its exposure to interest and currency risks arising from its operations and from its sources of finance;\\nand\\n(c) for trading purposes.\\nIn addition, various financial instruments (e.g. trade debtors, trade creditors, accruals and prepayments) arise\\ndirectly from the company\\'s operations.\\nTransactions in financial instruments result in the company assuming or transferring to another party one or more of\\nthe financial risks described below.\\nCredit risk\\nThe company has no significant concentrations of credit risk. Amounts shown in the balance sheet best represent\\nthe maximum credit risk exposure in the event other parties fail to perform their obligations under financial\\ninstruments.\\nLiquidity risk\\nThe company manages its cash and borrowing requirements in order to maximise interest income and minimise\\ninterest expense, whilst ensuring that the company has sufficient liquid resources to meet the operating needs of\\nthe business.\\nCurrency risk\\nThe company\\'s principal foreign currency exposures arise\\n(a) Purchasing goods from overseas companies. The company seeks to invoice and be invoiced in its principal\\ntrading currency wherever possible so as to minimise its exposure to foreign currency movements.\\n(b) Bank accounts held in foreign currencies. The company has engaged in forward positions to minimise risk\\nEirascial commitments, guarantees and contingent liabilities\\n21\\nBank loans within Mark Birkbeck & Sons Limited, the company\\'s parent undertaking, are secured by an\\ninter-company guarantee between Mark Birkbeck & Sons Limited and The House of Bruar Limited and by fixed and\\nfloating charges over the assets of The House of Bruar Limited. At the balance sheet date the potential liability\\nunder this guarantee amounted to £5,429,947 (2020: £3,616,675).\\n222\\nCommitments\\nRent is payable to the Bruar Trust each year calculated at £1,300 plus 1.5% of turnover of certain departments of\\nthe business, subject to a minimum rental payment of £35,000 per annum. Rent paid in the year ended 31 January\\n2021 amounted to £167,069 (2020: £305,081).\\nThe company had commitments to buy a total of 550,000 euros at an average rate of 1.1254 euros: £1 and a total\\nof 1,025,000 US dollars for an average rate of 1.3388 US dollars: £1 at various dates before 3 June 2021.\\n-26-\\nTHE HOUSE OF BRUAR LIMITED\\nNOTES TO THE FINANCIAL STATEMENTS (CONTINUED)\\nFOR THE YEAR ENDED 31 JANUARY 2021\\n23\\nEvents after the reporting date\\nSince the year end, the COVID-19 pandemic has continued to impact many local economies around the globe and\\nin common with many other UK businesses the company\\'s operations have been affected. The Company operates\\nwithin a sector where measures taken based upon Government advice to contain the spread of the virus, including\\ntravel bans, quarantines, and social distancing mean that operations have been affected during each period of\\nlockdown. The company has cut costs and taken advantage of available incentives to manage the financial impact\\nof the pandemic.\\nThe Company has determined that these ongoing events are non-adjusting subsequent events. Accordingly, the\\nfinancial position and results of operations as of and for the period ended 31 January 2021 have not been adjusted\\nto reflect their impact.\\n24\\nRelated party transactions\\nThe following amounts were outstanding at the reporting end date:\\n2021\\n2020\\nAmounts due to related parties\\n£\\n£\\nEntities with control, joint control or significant\\ninfluence over the company\\n1,500,000\\nThe following amounts were outstanding at the reporting end date:\\n2021\\n2020\\nAmounts due from related parties\\n£\\n£\\nOther related parties\\n385,646\\n287,844\\nOther information\\nThe company has taken advantage of the exemption contained in Financial Reporting Standard 102 and has\\ntherefore not disclosed transactions entered into between two or more members of a group, provided that any\\nsubsidiary undertaking which is party to the transaction is wholly owned by a member of that group.\\nDuring the year the company paid remuneration of £27,500 (2020: £92,500) to other related parties.\\n25\\nUltimate controlling party\\nThe immediate and ultimate parent undertaking is Mark Birkbeck & Sons Limited, a company registered in Scotland.\\nThe ultimate controlling party is Mr M N T Birkbeck in both the current and previous year, by virtue of his majority\\nshareholding in Mark Birkbeck & Sons Limited.\\nThe smallest and largest group to consolidate the results of these financial statements is Mark Birkbeck & Sons\\nLimited. Copies of the consolidated financial statements can be obtained from The House of Bruar, Blair Atholl,\\nPerth, Perthshire, PH18 5TW.\\n- 27-\\nThis document was delivered using electronic communications and authenticated in accordance with the\\nregistrar\\'s rules relating to electronic form, authentication and manner of delivery under section 1072 of\\nthe Companies Act 2006.\\n'"
      ]
     },
     "execution_count": 36,
     "metadata": {},
     "output_type": "execute_result"
    }
   ],
   "source": [
    "text"
   ]
  },
  {
   "cell_type": "markdown",
   "id": "15efed1f-b943-45b4-b89e-840bac0bd172",
   "metadata": {},
   "source": [
    "3. Text chunking\n",
    "\n",
    "The extracted text from the PDF is chunked following these steps: \n",
    "\n",
    "    - Split into sentences\n",
    "    - Create paragraphs based on number of element per chunk which can be set up manually \n",
    "    - Create DataFrame where each row is a paragraph"
   ]
  },
  {
   "cell_type": "code",
   "execution_count": 38,
   "id": "ff818bfc-d7c0-4fff-a529-def827132663",
   "metadata": {
    "tags": []
   },
   "outputs": [],
   "source": [
    "#split into sentences\n",
    "def text_to_sentences(text):\n",
    "    sentences = text.split('\\n')\n",
    "    return sentences\n",
    "\n",
    "def create_sentence_chunks(sentences, chunk_size):\n",
    "    sentence_chunks = [sentences[i:i+chunk_size] for i in range(0, len(sentences), chunk_size)]\n",
    "    return sentence_chunks\n",
    "\n",
    "def text_to_paragraph(text, chunk_size):\n",
    "    return create_sentence_chunks(text_to_sentences(text), chunk_size)\n",
    "\n",
    "def paragraphs_to_df(paragraphs):\n",
    "    data = []\n",
    "\n",
    "    # Iterate through sentence chunks\n",
    "    for idx, chunk in enumerate(sentence_chunks, start=1):\n",
    "        # Merge sentences within the chunk into one string\n",
    "        merged_text = ''.join(chunk)\n",
    "        # Append data to the list\n",
    "        data.append({\n",
    "            'paragraph_number':idx,\n",
    "            'text':merged_text\n",
    "        })\n",
    "    # DataFrame with different paragraphs\n",
    "    return pd.DataFrame(data)\n",
    "    \n",
    "chunk_size = 40\n",
    "sentence_chunks = text_to_paragraph(text, chunk_size)\n",
    "df = paragraphs_to_df(sentence_chunks)"
   ]
  },
  {
   "cell_type": "markdown",
   "id": "60676ba4-4565-4108-b1ce-d95387f7d44e",
   "metadata": {},
   "source": [
    "## 4. Create the embeddings\n",
    "\n",
    "For each paragraph in the DataFrame, the gecko embedding model from GCP is applied to create the corresponding embeddign vector."
   ]
  },
  {
   "cell_type": "code",
   "execution_count": 40,
   "id": "8360991a-7f39-4d87-90e3-65dc71fa41ec",
   "metadata": {
    "tags": []
   },
   "outputs": [],
   "source": [
    "# Call the GCP models\n",
    "generation_model = TextGenerationModel.from_pretrained(\"text-bison@002\")\n",
    "embedding_model = TextEmbeddingModel.from_pretrained(\"textembedding-gecko@002\")\n",
    "\n",
    "\n",
    "# This decorator is used to handle exceptions and apply exponential backoff in case of ResourceExhausted errors.\n",
    "# It means the function will be retried with increasing time intervals in case of this specific exception.\n",
    "@retry(wait=wait_random_exponential(min=1, max=60), stop=stop_after_attempt(5))\n",
    "def text_generation_model_with_backoff(**kwargs):\n",
    "    return generation_model.predict(**kwargs).text\n",
    "\n",
    "\n",
    "def get_embedding(text):\n",
    "    get_embedding.counter += 1\n",
    "    try:\n",
    "        if get_embedding.counter % 100 == 0:\n",
    "            time.sleep(3)\n",
    "        return embedding_model.get_embeddings([text])[0].values #Send request to embedding model\n",
    "    except:\n",
    "        print('waiting for 60 secs')\n",
    "        time.sleep(60)\n",
    "        return embedding_model.get_embeddings([text])[0].values #Send request to embedding model\n"
   ]
  },
  {
   "cell_type": "code",
   "execution_count": 41,
   "id": "a5b1beea-f56d-477d-9c38-4344a0d78416",
   "metadata": {
    "tags": []
   },
   "outputs": [],
   "source": [
    "get_embedding.counter = 0\n",
    "\n",
    "# Create embedding for each paragraph in the DataFrame. This may take several minutes to complete.\n",
    "df[\"embedding\"] = df[\"text\"].apply(lambda x: get_embedding(x))"
   ]
  },
  {
   "cell_type": "markdown",
   "id": "d401f917-d725-4ef1-962d-b3f2967af2a0",
   "metadata": {},
   "source": [
    "The same embedding model is applied on the question of the user."
   ]
  },
  {
   "cell_type": "code",
   "execution_count": 42,
   "id": "9deda000-4fcb-49bc-b440-9204c64b51d3",
   "metadata": {
    "tags": []
   },
   "outputs": [],
   "source": [
    "def get_context_from_question(\n",
    "    question: str, vector_store: pd.DataFrame, sort_index_value: int = 3\n",
    ") -> Tuple[str, pd.DataFrame]:\n",
    "    query_vector = np.array(get_embedding(question))\n",
    "    vector_store[\"dot_product\"] = vector_store[\"embedding\"].apply(\n",
    "        lambda row: np.dot(row, query_vector)\n",
    "    )\n",
    "    # Similarity matching by dot product \n",
    "    top_matched = vector_store.sort_values(by=\"dot_product\", ascending=False)[\n",
    "        :sort_index_value\n",
    "    ].index\n",
    "    \n",
    "    top_matched_df = vector_store.loc[top_matched, [\"paragraph_number\", \"text\"]]\n",
    "    context = \"\\n\".join(top_matched_df[\"text\"].values)\n",
    "    \n",
    "    return context, top_matched_df"
   ]
  },
  {
   "cell_type": "markdown",
   "id": "fd6ca9ef-b315-4393-bf13-bde75506473f",
   "metadata": {
    "tags": []
   },
   "source": [
    "## Usage"
   ]
  },
  {
   "cell_type": "code",
   "execution_count": 43,
   "id": "bcf5e3ab-3689-4abf-b1f2-806fa81d25f1",
   "metadata": {
    "tags": []
   },
   "outputs": [
    {
     "name": "stdout",
     "output_type": "stream",
     "text": [
      "Give me the scope 1 emissions in 2021?\n",
      "PaLM Predicted:  The scope 1 emissions in 2021 were 240.00 metric tonnes. \n",
      "\n",
      "\n",
      "    paragraph_number                                               text\n",
      "30                31  3,573,204758,517383,67220,828,484Depreciation ...\n",
      "26                27  20212020££Interest on bank overdrafts and loan...\n",
      "5                  6  - Gas combustion740,145- Fuel consumed for tra...\n",
      "0                  1  Company Registration No. SC145746 (Scotland)TH...\n",
      "CPU times: user 22.1 ms, sys: 15.9 ms, total: 38.1 ms\n",
      "Wall time: 1.37 s\n"
     ]
    }
   ],
   "source": [
    "%%time\n",
    "# your question for the documents\n",
    "question = \"Give me the scope 1 emissions in 2021?\"\n",
    "\n",
    "# get the custom relevant chunks from all the chunks in vector store.\n",
    "context, top_matched_df = get_context_from_question(\n",
    "    question,\n",
    "    vector_store=df,\n",
    "    sort_index_value=4,  # Top N results to pick from embedding vector search\n",
    ")\n",
    "prompt = f\"\"\" Answer the question as precise as possible using the provided context. \\n\\n\n",
    "            Context: \\n {context}?\\n\n",
    "            Question: \\n {question} \\n\n",
    "            Answer:\n",
    "  \n",
    "  \"\"\"\n",
    "\n",
    "# Call the PaLM API on the prompt.\n",
    "print(question)\n",
    "print(\"PaLM Predicted:\", text_generation_model_with_backoff(prompt=prompt), \"\\n\\n\")\n",
    "# top 5 data that has been picked by model based on user question. This becomes the context.\n",
    "print(top_matched_df)\n"
   ]
  },
  {
   "cell_type": "code",
   "execution_count": 44,
   "id": "d24ce4fb-2ae4-4da0-becd-61f6bf1dc671",
   "metadata": {
    "tags": []
   },
   "outputs": [
    {
     "name": "stdout",
     "output_type": "stream",
     "text": [
      "Give me the scope 2 emissions in 2021?\n",
      "PaLM Predicted:  The scope 2 emissions in 2021 were 531.00 metric tonnes. \n",
      "\n",
      "\n",
      "    paragraph_number                                               text\n",
      "30                31  3,573,204758,517383,67220,828,484Depreciation ...\n",
      "26                27  20212020££Interest on bank overdrafts and loan...\n",
      "0                  1  Company Registration No. SC145746 (Scotland)TH...\n",
      "5                  6  - Gas combustion740,145- Fuel consumed for tra...\n"
     ]
    }
   ],
   "source": [
    "# your question for the documents\n",
    "question = \"Give me the scope 2 emissions in 2021?\"\n",
    "\n",
    "# get the custom relevant chunks from all the chunks in vector store.\n",
    "context, top_matched_df = get_context_from_question(\n",
    "    question,\n",
    "    vector_store=df,\n",
    "    sort_index_value=4,  # Top N results to pick from embedding vector search\n",
    ")\n",
    "prompt = f\"\"\" Answer the question as precise as possible using the provided context. \\n\\n\n",
    "            Context: \\n {context}?\\n\n",
    "            Question: \\n {question} \\n\n",
    "            Answer:\n",
    "  \n",
    "  \"\"\"\n",
    "\n",
    "# Call the PaLM API on the prompt.\n",
    "print(question)\n",
    "print(\"PaLM Predicted:\", text_generation_model_with_backoff(prompt=prompt), \"\\n\\n\")\n",
    "# top 5 data that has been picked by model based on user question. This becomes the context.\n",
    "print(top_matched_df)"
   ]
  },
  {
   "cell_type": "code",
   "execution_count": 45,
   "id": "a27040a8-9c25-4ba1-9ce0-1986d078cb17",
   "metadata": {
    "tags": []
   },
   "outputs": [
    {
     "name": "stdout",
     "output_type": "stream",
     "text": [
      "Give me the scope 3 emissions in 2021?\n",
      "PaLM Predicted:  The scope 3 emissions in 2021 were 45.00 metric tonnes. \n",
      "\n",
      "\n",
      "    paragraph_number                                               text\n",
      "30                31  3,573,204758,517383,67220,828,484Depreciation ...\n",
      "26                27  20212020££Interest on bank overdrafts and loan...\n",
      "5                  6  - Gas combustion740,145- Fuel consumed for tra...\n",
      "10                11  Chartered AccountantsStatutory AuditorFleet Ho...\n"
     ]
    }
   ],
   "source": [
    "# your question for the documents\n",
    "question = \"Give me the scope 3 emissions in 2021?\"\n",
    "\n",
    "# get the custom relevant chunks from all the chunks in vector store.\n",
    "context, top_matched_df = get_context_from_question(\n",
    "    question,\n",
    "    vector_store=df,\n",
    "    sort_index_value=4,  # Top N results to pick from embedding vector search\n",
    ")\n",
    "prompt = f\"\"\" Answer the question as precise as possible using the provided context. \\n\\n\n",
    "            Context: \\n {context}?\\n\n",
    "            Question: \\n {question} \\n\n",
    "            Answer:\n",
    "  \n",
    "  \"\"\"\n",
    "\n",
    "# Call the PaLM API on the prompt.\n",
    "print(question)\n",
    "print(\"PaLM Predicted:\", text_generation_model_with_backoff(prompt=prompt), \"\\n\\n\")\n",
    "# top 5 data that has been picked by model based on user question. This becomes the context.\n",
    "print(top_matched_df)"
   ]
  },
  {
   "cell_type": "code",
   "execution_count": null,
   "id": "0434d5b5-ac87-4310-acd6-c7ed596504ae",
   "metadata": {},
   "outputs": [],
   "source": []
  }
 ],
 "metadata": {
  "environment": {
   "kernel": "python3",
   "name": "tf2-gpu.2-13.m114",
   "type": "gcloud",
   "uri": "gcr.io/deeplearning-platform-release/tf2-gpu.2-13:m114"
  },
  "kernelspec": {
   "display_name": "Python 3 (Local)",
   "language": "python",
   "name": "python3"
  },
  "language_info": {
   "codemirror_mode": {
    "name": "ipython",
    "version": 3
   },
   "file_extension": ".py",
   "mimetype": "text/x-python",
   "name": "python",
   "nbconvert_exporter": "python",
   "pygments_lexer": "ipython3",
   "version": "3.10.13"
  }
 },
 "nbformat": 4,
 "nbformat_minor": 5
}
