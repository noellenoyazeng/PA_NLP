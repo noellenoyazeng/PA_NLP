{
 "cells": [
  {
   "attachments": {},
   "cell_type": "markdown",
   "metadata": {},
   "source": [
    "# Gen AI Learning Environment: Get Started Notebook"
   ]
  },
  {
   "attachments": {},
   "cell_type": "markdown",
   "metadata": {},
   "source": [
    "### Overview\n",
    "\n",
    "**Welcome To The Gen AI Learning Environment!**\n",
    "\n",
    "The following resources have been made available to you to learn and experiment with. \n",
    "- Vertex AI resources:\n",
    "    - Google Foundation models (text, code, embeddings etc.)\n",
    "    - Open-Source models through model garden and PEFT etc. using training pipelines\n",
    "    - A couple of pre-provisioned model endpoints for you to get started\n",
    "    - Vertex AI Vector Search (Matching Engine) for vector db and ANN Service in addition to instructions on how to provision this\n",
    "- Access to Gen AI App Builder\n",
    "- Access to several additional resources such as Storage Buckets, Big Query etc.\n",
    "- Instructions on configuring compute resources such as GPUs for training, inference and in notebooks.\n",
    "\n",
    "Please make sure that you **only** use **PUBLIC** data in this environment to comply with LBG platform standards."
   ]
  },
  {
   "attachments": {},
   "cell_type": "markdown",
   "metadata": {},
   "source": [
    "### User-Guide Notebooks\n",
    "\n",
    "We have provided the following notebooks to help you get started. They cover things such as Google's best practices for prompt engineering and patterns for open-source PEFT using GCP products in addition to using embeddings with Vertex AI Vector Search.\n",
    "\n",
    "**Description and Links to User Guides**\n",
    "| ID | Name | Description |\n",
    "| :- | :- | :- |\n",
    "| B | [Introduction to Environment](./B_Intro_To_Env.ipynb) | Introduction to using Google Generative AI models and the Vertex AI Python SDK within this environment. |\n",
    "| C1 | [Prompt Engineering: Google Text Models](./C1_Prompt_Eng_Google_Text.ipynb) | Prompt-engineering best practices and configuration parameters for Google text foundation models. |\n",
    "| C2 | [Prompt Engineering: Google Code Models](./C2_Prompt_Eng_Google_Code.ipynb) | Prompt-engineering best practices and configuration parameters for Google text foundation models. |\n",
    "| D1 | [Deployment: Open-Source Models (Model Garden)](./D1_Deployment_OSS.ipynb) | Deployment pattern for open-source models from Model Garden using Vetex AI Model Registry, Model Endpoints (Example Model: OpenLlama)|\n",
    "| D2 | [PEFT & Deployment: Open-Source Models (Model Garden)](./D2_Deployment_PEFT_OSS.ipynb) | Deployment pattern for open-source models from Model Garden using Vertex AI Model Registry, Model Endpoints and Training Pipelines (Example Model: OpenLlama)|\n",
    "| D3 | [Deployment: Open-Source Models in a GPU Notebook (HuggingFace)](./D3_Deployment_Notebook_OSS.ipynb) | Creation of a GPU Enabled notebook and example of open source models from HuggingFace (Example Models: Stable Code Completion, Stable Diffusion) |\n",
    "| E1 | [Embeddings: Google Embedding Models](./E1_Embeddings.ipynb) | Embedding generation using Google Embedding model API and NLP task using SCaNN locally on notebook |\n",
    "| E2 | [Embeddings with Vector Search: Google Embedding Models & Vertex AI Vector Search](./E2_Vector_Search.ipynb) | Embedding generation using Google Embedding model API and NLP task using approximate nearest neighbour (ANN) serivce from Vertex AI Vector Search (Matching Engine)|\n",
    "| F | [Gen AI for BQML](./F_Gen_AI_For_BQML.ipynb) | Guide to using Generative AI support within BigQuery ML and examples of functionality |\n",
    "| F | [Notebook Creation (TPU)](./G_Notebook_Creation.ipynb) | Guide to setting up TPU notebooks |"
   ]
  }
 ],
 "metadata": {
  "language_info": {
   "name": "python"
  },
  "orig_nbformat": 4
 },
 "nbformat": 4,
 "nbformat_minor": 2
}
