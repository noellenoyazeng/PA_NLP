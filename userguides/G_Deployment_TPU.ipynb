{
 "cells": [
  {
   "attachments": {},
   "cell_type": "markdown",
   "metadata": {},
   "source": [
    "# Provisioning TPU Notebook Instances\n",
    "\n",
    "## Introduction\n",
    "On top of this pre-provisioned basic notebook, various other types of notebook instances can be created using both the UI and/or code.\n",
    "\n",
    "The code listed below contains template code with default values to help you create TPU notebooks with your desired configurations.\n",
    "\n",
    "Note: Make sure to update `INSTANCE_NAME` in the code blocks \n",
    "with a unique notebook instance name.\n",
    "\n",
    "**Warning**\n",
    "<span style=\"color:white\"> <span style=\"background-color: #FF0000\">Creating Notebooks / TPUs can be costly so make sure to provision when needed. Stop / Delete the instances when not actively using the instance.</span> </span>\n"
   ]
  },
  {
   "attachments": {},
   "cell_type": "markdown",
   "metadata": {},
   "source": [
    "## TPU Nodes: VM Architecture\n",
    "\n",
    "This will create a new VM set-up with a TPU for acceleration. \n",
    "https://cloud.google.com/tpu/docs/intro-to-tpu\n",
    "\n",
    "Recommended settings for general use:\n",
    "\n",
    "        TPU=\"v2-8\" \n",
    "        TPU_CONFIG=\"tpu-vm-tf-2.8.0\" \n",
    "        \n",
    "Note: You may get the error listed below stat that there is 'no more capacity'. This is due to a lack of TPU availability in Europe, please retry the command again later.\n",
    "\n",
    "        ERROR: (gcloud.compute.tpus.tpu-vm.create) {\n",
    "          \"code\": 8,\n",
    "          \"message\": \"There is no more capacity in the zone \\\"europe-west4-a\\\"; you can try in another zone where Cloud TPU Nodes are offered (see https://cloud.google.com/tpu/docs/regions) [EID: 0x7d10acaa1adea3eb]\" }"
   ]
  },
  {
   "cell_type": "code",
   "execution_count": null,
   "metadata": {
    "vscode": {
     "languageId": "plaintext"
    }
   },
   "outputs": [],
   "source": [
    "# Change and set the variables below\n",
    "INSTANCE_NAME=\"test-tpu-vm-1\"\n",
    "TPU=\"v2-8\"\n",
    "TPU_CONFIG=\"tpu-vm-tf-2.8.0\""
   ]
  },
  {
   "cell_type": "code",
   "execution_count": null,
   "metadata": {
    "vscode": {
     "languageId": "plaintext"
    }
   },
   "outputs": [],
   "source": [
    "! gcloud compute tpus tpu-vm create $INSTANCE_NAME \\\n",
    "--zone=\"europe-west4-a\" \\\n",
    "--accelerator-type=$TPU \\\n",
    "--version=$TPU_CONFIG \\\n",
    "--network=\"gen-ai-vpc\" \\\n",
    "--subnetwork=\"gen-ai-vpc-subnet\""
   ]
  },
  {
   "cell_type": "markdown",
   "metadata": {},
   "source": [
    "## Deleting TPUs\n",
    "\n",
    "To delete any existing TPU of any architecture, use the guide below to list the relevant TPUs and update the `TPU_NAME` and `DELETE_ZONE` variables with the NAME and ZONE details of the TPU you want to delete and execute the delete code."
   ]
  },
  {
   "cell_type": "code",
   "execution_count": null,
   "metadata": {
    "vscode": {
     "languageId": "plaintext"
    }
   },
   "outputs": [],
   "source": [
    "print (\"list of TPUs in europe-west4-a\")\n",
    "! gcloud compute tpus list --zone=\"europe-west4-a\""
   ]
  },
  {
   "cell_type": "code",
   "execution_count": null,
   "metadata": {
    "vscode": {
     "languageId": "plaintext"
    }
   },
   "outputs": [],
   "source": [
    "# Change and set the variables below\n",
    "TPU_NAME=\"name of the TPU you want to delete\"\n",
    "DELETE_ZONE=\"europe-west4-a\""
   ]
  },
  {
   "cell_type": "code",
   "execution_count": null,
   "metadata": {
    "vscode": {
     "languageId": "plaintext"
    }
   },
   "outputs": [],
   "source": [
    "# TPU Delete Command\n",
    "! gcloud compute tpus delete $TPU_NAME --zone=$DELETE_ZONE --quiet"
   ]
  }
 ],
 "metadata": {
  "language_info": {
   "name": "python"
  },
  "orig_nbformat": 4
 },
 "nbformat": 4,
 "nbformat_minor": 2
}
